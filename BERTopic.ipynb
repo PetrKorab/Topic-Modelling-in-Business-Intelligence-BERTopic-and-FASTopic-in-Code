{
 "cells": [
  {
   "cell_type": "code",
   "execution_count": 12,
   "metadata": {
    "id": "jCqkRDlzOhGW"
   },
   "outputs": [],
   "source": [
    "from bertopic import BERTopic\n",
    "from umap import UMAP\n",
    "from sklearn.feature_extraction.text import CountVectorizer\n",
    "from nltk.corpus import stopwords\n",
    "import nltk\n",
    "nltk.download('stopwords')\n",
    "from nltk import word_tokenize          \n",
    "from nltk.stem import WordNetLemmatizer\n",
    "import pandas as pd\n",
    "import re"
   ]
  },
  {
   "cell_type": "code",
   "execution_count": 13,
   "metadata": {
    "id": "V7s-panZOhGX"
   },
   "outputs": [],
   "source": [
    "data = pd.read_excel('amazon_dog_food_reviews_FASTopic_clean.xlsx')\n",
    "data = data.dropna()"
   ]
  },
  {
   "cell_type": "code",
   "execution_count": 14,
   "metadata": {},
   "outputs": [
    {
     "data": {
      "text/html": [
       "<div>\n",
       "<style scoped>\n",
       "    .dataframe tbody tr th:only-of-type {\n",
       "        vertical-align: middle;\n",
       "    }\n",
       "\n",
       "    .dataframe tbody tr th {\n",
       "        vertical-align: top;\n",
       "    }\n",
       "\n",
       "    .dataframe thead th {\n",
       "        text-align: right;\n",
       "    }\n",
       "</style>\n",
       "<table border=\"1\" class=\"dataframe\">\n",
       "  <thead>\n",
       "    <tr style=\"text-align: right;\">\n",
       "      <th></th>\n",
       "      <th>Review ID</th>\n",
       "      <th>time</th>\n",
       "      <th>Author Name</th>\n",
       "      <th>Author URL</th>\n",
       "      <th>Rating</th>\n",
       "      <th>Review Title</th>\n",
       "      <th>Review URL</th>\n",
       "      <th>text</th>\n",
       "      <th>Verified Purchase</th>\n",
       "      <th>clean_text</th>\n",
       "    </tr>\n",
       "  </thead>\n",
       "  <tbody>\n",
       "    <tr>\n",
       "      <th>0</th>\n",
       "      <td>R1KVDJU6Z60P5L</td>\n",
       "      <td>2020-12-31</td>\n",
       "      <td>The Martin‚Äôs</td>\n",
       "      <td>https://www.amazon.com/gp/profile/amzn1.accoun...</td>\n",
       "      <td>1</td>\n",
       "      <td>Horrible food for dogs and makes them super ga...</td>\n",
       "      <td>https://www.amazon.com/gp/customer-reviews/R1K...</td>\n",
       "      <td>My dog ate it a couple times got super sick. I...</td>\n",
       "      <td>False</td>\n",
       "      <td>eat couple time super sick thought transition ...</td>\n",
       "    </tr>\n",
       "    <tr>\n",
       "      <th>1</th>\n",
       "      <td>R3BDTTWQEA8WVO</td>\n",
       "      <td>2020-12-31</td>\n",
       "      <td>Judy</td>\n",
       "      <td>https://www.amazon.com/gp/profile/amzn1.accoun...</td>\n",
       "      <td>5</td>\n",
       "      <td>My dog loves this</td>\n",
       "      <td>https://www.amazon.com/gp/customer-reviews/R3B...</td>\n",
       "      <td>My dog likes it and it is highly recommended.</td>\n",
       "      <td>True</td>\n",
       "      <td>like highly recommend</td>\n",
       "    </tr>\n",
       "    <tr>\n",
       "      <th>2</th>\n",
       "      <td>R2HIKEFD35S0UD</td>\n",
       "      <td>2020-12-31</td>\n",
       "      <td>repete</td>\n",
       "      <td>https://www.amazon.com/gp/profile/amzn1.accoun...</td>\n",
       "      <td>5</td>\n",
       "      <td>Great dog food, tastes like chicken</td>\n",
       "      <td>https://www.amazon.com/gp/customer-reviews/R2H...</td>\n",
       "      <td>My dog has eaten this for years without issue....</td>\n",
       "      <td>True</td>\n",
       "      <td>eat year issue add water break treat heaven</td>\n",
       "    </tr>\n",
       "    <tr>\n",
       "      <th>3</th>\n",
       "      <td>R3CSCZS4YUDSIV</td>\n",
       "      <td>2020-12-27</td>\n",
       "      <td>Brian Moore</td>\n",
       "      <td>https://www.amazon.com/gp/profile/amzn1.accoun...</td>\n",
       "      <td>5</td>\n",
       "      <td>Great Dogfood and Service</td>\n",
       "      <td>https://www.amazon.com/gp/customer-reviews/R3C...</td>\n",
       "      <td>Food showed up at my door, no carrying it from...</td>\n",
       "      <td>True</td>\n",
       "      <td>food door carry store love it</td>\n",
       "    </tr>\n",
       "    <tr>\n",
       "      <th>4</th>\n",
       "      <td>R21TC1KPX49VUY</td>\n",
       "      <td>2020-12-26</td>\n",
       "      <td>Lindsay Good</td>\n",
       "      <td>https://www.amazon.com/gp/profile/amzn1.accoun...</td>\n",
       "      <td>5</td>\n",
       "      <td>My dog loves it!</td>\n",
       "      <td>https://www.amazon.com/gp/customer-reviews/R21...</td>\n",
       "      <td>My dog loves it! This is one of the few brands...</td>\n",
       "      <td>True</td>\n",
       "      <td>love it brand eat issue offer small bite get g...</td>\n",
       "    </tr>\n",
       "    <tr>\n",
       "      <th>...</th>\n",
       "      <td>...</td>\n",
       "      <td>...</td>\n",
       "      <td>...</td>\n",
       "      <td>...</td>\n",
       "      <td>...</td>\n",
       "      <td>...</td>\n",
       "      <td>...</td>\n",
       "      <td>...</td>\n",
       "      <td>...</td>\n",
       "      <td>...</td>\n",
       "    </tr>\n",
       "    <tr>\n",
       "      <th>3686</th>\n",
       "      <td>R1G1DJ6CUIN7V8</td>\n",
       "      <td>2016-06-01</td>\n",
       "      <td>LadyKathy</td>\n",
       "      <td>https://www.amazon.com/gp/profile/amzn1.accoun...</td>\n",
       "      <td>5</td>\n",
       "      <td>Good food for the price</td>\n",
       "      <td>https://www.amazon.com/gp/customer-reviews/R1G...</td>\n",
       "      <td>Good food for the price, and with auto shipmen...</td>\n",
       "      <td>True</td>\n",
       "      <td>good price auto shipment carry heavy bag store...</td>\n",
       "    </tr>\n",
       "    <tr>\n",
       "      <th>3687</th>\n",
       "      <td>R2TZ9YIF9TDCDE</td>\n",
       "      <td>2016-05-01</td>\n",
       "      <td>C. Crosley</td>\n",
       "      <td>https://www.amazon.com/gp/profile/amzn1.accoun...</td>\n",
       "      <td>5</td>\n",
       "      <td>I love their company</td>\n",
       "      <td>https://www.amazon.com/gp/customer-reviews/R2T...</td>\n",
       "      <td>Blue Buffalo has done it again. I love their c...</td>\n",
       "      <td>True</td>\n",
       "      <td>again love company productseverything allergic...</td>\n",
       "    </tr>\n",
       "    <tr>\n",
       "      <th>3688</th>\n",
       "      <td>R28WLUJG3QXETY</td>\n",
       "      <td>2016-04-01</td>\n",
       "      <td>ted smith</td>\n",
       "      <td>https://www.amazon.com/gp/profile/amzn1.accoun...</td>\n",
       "      <td>3</td>\n",
       "      <td>Three Stars</td>\n",
       "      <td>https://www.amazon.com/gp/customer-reviews/R28...</td>\n",
       "      <td>My dog eats the kibble but spits the life sour...</td>\n",
       "      <td>False</td>\n",
       "      <td>eat kibble spits life source bit floor</td>\n",
       "    </tr>\n",
       "    <tr>\n",
       "      <th>3689</th>\n",
       "      <td>R1XCS7H039UH5K</td>\n",
       "      <td>2016-03-01</td>\n",
       "      <td>Sherry P</td>\n",
       "      <td>https://www.amazon.com/gp/profile/amzn1.accoun...</td>\n",
       "      <td>4</td>\n",
       "      <td>All dogs seemed like they were starving by nwx...</td>\n",
       "      <td>https://www.amazon.com/gp/customer-reviews/R1X...</td>\n",
       "      <td>Dogs did well with it in regards to digestion....</td>\n",
       "      <td>True</td>\n",
       "      <td>dog digestion weimaraner lose bit weight tho i...</td>\n",
       "    </tr>\n",
       "    <tr>\n",
       "      <th>3690</th>\n",
       "      <td>R3VS6PAVQCSF55</td>\n",
       "      <td>2016-02-01</td>\n",
       "      <td>Karen</td>\n",
       "      <td>https://www.amazon.com/gp/profile/amzn1.accoun...</td>\n",
       "      <td>4</td>\n",
       "      <td>Good dog food, LifeSource Bits maybe not so tasty</td>\n",
       "      <td>https://www.amazon.com/gp/customer-reviews/R3V...</td>\n",
       "      <td>After my dog had a small cancer bump removed f...</td>\n",
       "      <td>True</td>\n",
       "      <td>small cancer bump remove belly year expensive ...</td>\n",
       "    </tr>\n",
       "  </tbody>\n",
       "</table>\n",
       "<p>3621 rows × 10 columns</p>\n",
       "</div>"
      ],
      "text/plain": [
       "           Review ID       time     Author Name  \\\n",
       "0     R1KVDJU6Z60P5L 2020-12-31  The Martin‚Äôs   \n",
       "1     R3BDTTWQEA8WVO 2020-12-31            Judy   \n",
       "2     R2HIKEFD35S0UD 2020-12-31          repete   \n",
       "3     R3CSCZS4YUDSIV 2020-12-27     Brian Moore   \n",
       "4     R21TC1KPX49VUY 2020-12-26    Lindsay Good   \n",
       "...              ...        ...             ...   \n",
       "3686  R1G1DJ6CUIN7V8 2016-06-01       LadyKathy   \n",
       "3687  R2TZ9YIF9TDCDE 2016-05-01      C. Crosley   \n",
       "3688  R28WLUJG3QXETY 2016-04-01       ted smith   \n",
       "3689  R1XCS7H039UH5K 2016-03-01        Sherry P   \n",
       "3690  R3VS6PAVQCSF55 2016-02-01           Karen   \n",
       "\n",
       "                                             Author URL  Rating  \\\n",
       "0     https://www.amazon.com/gp/profile/amzn1.accoun...       1   \n",
       "1     https://www.amazon.com/gp/profile/amzn1.accoun...       5   \n",
       "2     https://www.amazon.com/gp/profile/amzn1.accoun...       5   \n",
       "3     https://www.amazon.com/gp/profile/amzn1.accoun...       5   \n",
       "4     https://www.amazon.com/gp/profile/amzn1.accoun...       5   \n",
       "...                                                 ...     ...   \n",
       "3686  https://www.amazon.com/gp/profile/amzn1.accoun...       5   \n",
       "3687  https://www.amazon.com/gp/profile/amzn1.accoun...       5   \n",
       "3688  https://www.amazon.com/gp/profile/amzn1.accoun...       3   \n",
       "3689  https://www.amazon.com/gp/profile/amzn1.accoun...       4   \n",
       "3690  https://www.amazon.com/gp/profile/amzn1.accoun...       4   \n",
       "\n",
       "                                           Review Title  \\\n",
       "0     Horrible food for dogs and makes them super ga...   \n",
       "1                                     My dog loves this   \n",
       "2                   Great dog food, tastes like chicken   \n",
       "3                             Great Dogfood and Service   \n",
       "4                                      My dog loves it!   \n",
       "...                                                 ...   \n",
       "3686                            Good food for the price   \n",
       "3687                               I love their company   \n",
       "3688                                        Three Stars   \n",
       "3689  All dogs seemed like they were starving by nwx...   \n",
       "3690  Good dog food, LifeSource Bits maybe not so tasty   \n",
       "\n",
       "                                             Review URL  \\\n",
       "0     https://www.amazon.com/gp/customer-reviews/R1K...   \n",
       "1     https://www.amazon.com/gp/customer-reviews/R3B...   \n",
       "2     https://www.amazon.com/gp/customer-reviews/R2H...   \n",
       "3     https://www.amazon.com/gp/customer-reviews/R3C...   \n",
       "4     https://www.amazon.com/gp/customer-reviews/R21...   \n",
       "...                                                 ...   \n",
       "3686  https://www.amazon.com/gp/customer-reviews/R1G...   \n",
       "3687  https://www.amazon.com/gp/customer-reviews/R2T...   \n",
       "3688  https://www.amazon.com/gp/customer-reviews/R28...   \n",
       "3689  https://www.amazon.com/gp/customer-reviews/R1X...   \n",
       "3690  https://www.amazon.com/gp/customer-reviews/R3V...   \n",
       "\n",
       "                                                   text  Verified Purchase  \\\n",
       "0     My dog ate it a couple times got super sick. I...              False   \n",
       "1         My dog likes it and it is highly recommended.               True   \n",
       "2     My dog has eaten this for years without issue....               True   \n",
       "3     Food showed up at my door, no carrying it from...               True   \n",
       "4     My dog loves it! This is one of the few brands...               True   \n",
       "...                                                 ...                ...   \n",
       "3686  Good food for the price, and with auto shipmen...               True   \n",
       "3687  Blue Buffalo has done it again. I love their c...               True   \n",
       "3688  My dog eats the kibble but spits the life sour...              False   \n",
       "3689  Dogs did well with it in regards to digestion....               True   \n",
       "3690  After my dog had a small cancer bump removed f...               True   \n",
       "\n",
       "                                             clean_text  \n",
       "0     eat couple time super sick thought transition ...  \n",
       "1                                 like highly recommend  \n",
       "2           eat year issue add water break treat heaven  \n",
       "3                         food door carry store love it  \n",
       "4     love it brand eat issue offer small bite get g...  \n",
       "...                                                 ...  \n",
       "3686  good price auto shipment carry heavy bag store...  \n",
       "3687  again love company productseverything allergic...  \n",
       "3688             eat kibble spits life source bit floor  \n",
       "3689  dog digestion weimaraner lose bit weight tho i...  \n",
       "3690  small cancer bump remove belly year expensive ...  \n",
       "\n",
       "[3621 rows x 10 columns]"
      ]
     },
     "execution_count": 14,
     "metadata": {},
     "output_type": "execute_result"
    }
   ],
   "source": [
    "data"
   ]
  },
  {
   "cell_type": "code",
   "execution_count": 15,
   "metadata": {
    "id": "ju8VsEB9OhGX"
   },
   "outputs": [],
   "source": [
    "# https://maartengr.github.io/BERTopic/getting_started/topicsovertime/topicsovertime.html#visualization"
   ]
  },
  {
   "cell_type": "code",
   "execution_count": 16,
   "metadata": {
    "colab": {
     "base_uri": "https://localhost:8080/"
    },
    "id": "Oncc6cZFOzk6",
    "outputId": "aed3020f-1bff-4e1c-dc25-c40d5a2cd055"
   },
   "outputs": [],
   "source": [
    "# pip install bertopic==0.16.3 gensim==4.3.3 nltk==3.9.1 pandas==2.2.2 plotly==5.24.1 scikit-learn==1.6.0 topmost==0.0.5 umap-learn==0.5.6"
   ]
  },
  {
   "cell_type": "code",
   "execution_count": 17,
   "metadata": {},
   "outputs": [],
   "source": [
    "stopwords_extended = [\n",
    "\"0o\", \"0s\", \"3a\", \"3b\", \"3d\", \"6b\", \"6o\", \"a\", \"a1\", \"a2\", \"a3\", \"a4\", \"ab\", \"able\", \"about\",\n",
    " \"above\", \"abst\", \"ac\", \"accordance\", \"according\", \"accordingly\", \"across\", \"act\", \"actually\",\n",
    " \"ad\", \"added\", \"adj\", \"ae\", \"af\", \"affected\", \"affecting\", \"affects\", \"after\", \"afterwards\",\n",
    " \"ag\", \"again\", \"against\", \"ah\", \"ain\", \"ain't\", \"aj\", \"al\", \"all\", \"allow\", \"allows\", \"almost\",\n",
    " \"alone\", \"along\", \"already\", \"also\", \"although\", \"always\", \"am\", \"among\", \"amongst\", \"amoungst\",\n",
    " \"amount\", \"an\", \"and\", \"announce\", \"another\", \"any\", \"anybody\", \"anyhow\", \"anymore\", \"anyone\",\n",
    " \"anything\", \"anyway\", \"anyways\", \"anywhere\", \"ao\", \"ap\", \"apart\", \"apparently\", \"appear\",\n",
    " \"appreciate\", \"appropriate\", \"approximately\", \"ar\", \"are\", \"aren\", \"arent\", \"aren't\",\n",
    " \"arise\", \"around\", \"as\", \"a's\", \"aside\", \"ask\", \"asking\", \"associated\", \"at\", \"au\",\n",
    " \"auth\", \"av\", \"available\", \"aw\", \"away\", \"awfully\", \"ax\", \"ay\", \"az\", \"b\", \"b1\",\n",
    " \"b2\", \"b3\", \"ba\", \"back\", \"bc\", \"bd\", \"be\", \"became\", \"because\", \"become\", \"becomes\",\n",
    " \"becoming\", \"been\", \"before\", \"beforehand\", \"begin\", \"beginning\", \"beginnings\", \"begins\",\n",
    " \"behind\", \"being\", \"believe\", \"below\", \"beside\", \"besides\", \"best\", \"better\", \"between\",\n",
    " \"beyond\", \"bi\", \"bill\", \"biol\", \"bj\", \"bk\", \"bl\", \"bn\", \"both\", \"bottom\", \"bp\", \"br\",\n",
    " \"brief\", \"briefly\", \"bs\", \"bt\", \"bu\", \"but\", \"bx\", \"by\", \"c\", \"c1\", \"c2\", \"c3\", \"ca\",\n",
    " \"call\", \"came\", \"can\", \"cannot\", \"cant\", \"can't\", \"cause\", \"causes\", \"cc\", \"cd\", \"ce\",\n",
    " \"certain\", \"certainly\", \"cf\", \"cg\", \"ch\", \"changes\", \"ci\", \"cit\", \"cj\", \"cl\", \"clearly\",\n",
    " \"cm\", \"c'mon\", \"cn\", \"co\", \"com\", \"come\", \"comes\", \"con\", \"concerning\", \"consequently\",\n",
    " \"consider\", \"considering\", \"contain\", \"containing\", \"contains\", \"corresponding\",\n",
    " \"could\", \"couldn\", \"couldnt\", \"couldn't\", \"course\", \"cp\", \"cq\", \"cr\", \"cry\", \"cs\", \"c's\",\n",
    " \"ct\", \"cu\", \"currently\", \"cv\", \"cx\", \"cy\", \"cz\", \"d\", \"d2\", \"da\", \"date\", \"dc\", \"dd\", \"de\",\n",
    " \"definitely\", \"describe\", \"described\", \"despite\", \"detail\", \"df\", \"di\", \"did\", \"didn\", \"didn't\",\n",
    " \"different\", \"dj\", \"dk\", \"dl\", \"do\", \"does\", \"doesn\", \"doesn't\", \"doing\", \"don\", \"done\", \"don't\",\n",
    " \"down\", \"downwards\", \"dp\", \"dr\", \"ds\", \"dt\", \"du\", \"due\", \"during\", \"dx\", \"dy\", \"e\", \"e2\", \"e3\",\n",
    " \"ea\", \"each\", \"ec\", \"ed\", \"edu\", \"ee\", \"ef\", \"effect\", \"eg\", \"ei\", \"eight\", \"eighty\", \"either\",\n",
    " \"ej\", \"el\", \"eleven\", \"else\", \"elsewhere\", \"em\", \"empty\", \"en\", \"end\", \"ending\", \"enough\",\n",
    " \"entirely\", \"eo\", \"ep\", \"eq\", \"er\", \"es\", \"especially\", \"est\", \"et\", \"et-al\", \"etc\", \"eu\",\n",
    " \"ev\", \"even\", \"ever\", \"every\", \"everybody\", \"everyone\", \"everything\", \"everywhere\", \"ex\",\n",
    " \"exactly\", \"example\", \"except\", \"ey\", \"f\", \"f2\", \"fa\", \"far\", \"fc\", \"few\", \"ff\", \"fi\",\n",
    " \"fifteen\", \"fifth\", \"fify\", \"fill\", \"find\", \"fire\", \"first\", \"five\", \"fix\", \"fj\", \"fl\",\n",
    " \"fn\", \"fo\", \"followed\", \"following\", \"follows\", \"for\", \"former\", \"formerly\", \"forth\",\n",
    " \"forty\", \"found\", \"four\", \"fr\", \"from\", \"front\", \"fs\", \"ft\", \"fu\", \"full\", \"further\",\n",
    " \"furthermore\", \"fy\", \"g\", \"ga\", \"gave\", \"ge\", \"get\", \"gets\", \"getting\", \"gi\", \"give\",\n",
    " \"given\", \"gives\", \"giving\", \"gj\", \"gl\", \"go\", \"goes\", \"going\", \"gone\", \"got\", \"gotten\",\n",
    " \"gr\", \"greetings\", \"gs\", \"gy\", \"h\", \"h2\", \"h3\", \"had\", \"hadn\", \"hadn't\", \"happens\", \"hardly\",\n",
    " \"has\", \"hasn\", \"hasnt\", \"hasn't\", \"have\", \"haven\", \"haven't\", \"having\", \"he\", \"hed\", \"he'd\",\n",
    " \"he'll\", \"hello\", \"help\", \"hence\", \"her\", \"here\", \"hereafter\", \"hereby\", \"herein\", \"heres\",\n",
    " \"here's\", \"hereupon\", \"hers\", \"herself\", \"hes\", \"he's\", \"hh\", \"hi\", \"hid\", \"him\", \"himself\",\n",
    " \"his\", \"hither\", \"hj\", \"ho\", \"home\", \"hopefully\", \"how\", \"howbeit\", \"however\", \"how's\", \"hr\",\n",
    " \"hs\", \"http\", \"hu\", \"hundred\", \"hy\", \"i\", \"i2\", \"i3\", \"i4\", \"i6\", \"i7\", \"i8\", \"ia\", \"ib\", \"ibid\",\n",
    " \"ic\", \"id\", \"i'd\", \"ie\", \"if\", \"ig\", \"ignored\", \"ih\", \"ii\", \"ij\", \"il\", \"i'll\", \"im\", \"i'm\",\n",
    " \"immediate\", \"immediately\", \"importance\", \"important\", \"in\", \"inasmuch\", \"inc\", \"indeed\",\n",
    " \"index\", \"indicate\", \"indicated\", \"indicates\", \"information\", \"inner\", \"insofar\", \"instead\",\n",
    " \"interest\", \"into\", \"invention\", \"inward\", \"io\", \"ip\", \"iq\", \"ir\", \"is\", \"isn\", \"isn't\", \"it\",\n",
    " \"itd\", \"it'd\", \"it'll\", \"its\", \"it's\", \"itself\", \"iv\", \"i've\", \"ix\", \"iy\", \"iz\", \"j\", \"jj\",\n",
    " \"jr\", \"js\", \"jt\", \"ju\", \"just\", \"k\", \"ke\", \"keep\", \"keeps\", \"kept\", \"kg\", \"kj\", \"km\", \"know\",\n",
    " \"known\", \"knows\", \"ko\", \"l\", \"l2\", \"la\", \"largely\", \"last\", \"lately\", \"later\", \"latter\",\n",
    " \"latterly\", \"lb\", \"lc\", \"le\", \"least\", \"les\", \"less\", \"lest\", \"let\", \"lets\", \"let's\",\n",
    " \"lf\", \"like\", \"liked\", \"likely\", \"line\", \"little\", \"lj\", \"ll\", \"ll\", \"ln\", \"lo\", \"look\",\n",
    " \"looking\", \"looks\", \"los\", \"lr\", \"ls\", \"lt\", \"ltd\", \"m\", \"m2\", \"ma\", \"made\", \"mainly\",\n",
    " \"make\", \"makes\", \"many\", \"may\", \"maybe\", \"me\", \"mean\", \"means\", \"meantime\", \"meanwhile\",\n",
    " \"merely\", \"mg\", \"might\", \"mightn\", \"mightn't\", \"mill\", \"million\", \"mine\", \"miss\", \"ml\",\n",
    " \"mn\", \"mo\", \"more\", \"moreover\", \"most\", \"mostly\", \"move\", \"mr\", \"mrs\", \"ms\", \"mt\", \"mu\",\n",
    " \"much\", \"mug\", \"must\", \"mustn\", \"mustn't\", \"my\", \"myself\", \"n\", \"n2\", \"na\", \"name\", \"namely\",\n",
    " \"nay\", \"nc\", \"nd\", \"ne\", \"near\", \"nearly\", \"necessarily\", \"necessary\", \"need\", \"needn\",\n",
    " \"needn't\", \"needs\", \"neither\", \"never\", \"nevertheless\", \"new\", \"next\", \"ng\", \"ni\", \"nine\",\n",
    " \"ninety\", \"nj\", \"nl\", \"nn\", \"no\", \"nobody\", \"non\", \"none\", \"nonetheless\", \"noone\", \"nor\",\n",
    " \"normally\", \"nos\", \"not\", \"noted\", \"nothing\", \"novel\", \"now\", \"nowhere\", \"nr\", \"ns\", \"nt\",\n",
    " \"ny\", \"o\", \"oa\", \"ob\", \"obtain\", \"obtained\", \"obviously\", \"oc\", \"od\", \"of\", \"off\", \"often\",\n",
    " \"og\", \"oh\", \"oi\", \"oj\", \"ok\", \"okay\", \"ol\", \"old\", \"om\", \"omitted\", \"on\", \"once\", \"one\",\n",
    " \"ones\", \"only\", \"onto\", \"oo\", \"op\", \"oq\", \"or\", \"ord\", \"os\", \"ot\", \"other\", \"others\",\n",
    " \"otherwise\", \"ou\", \"ought\", \"our\", \"ours\", \"ourselves\", \"out\", \"outside\", \"over\",\n",
    " \"overall\", \"ow\", \"owing\", \"own\", \"ox\", \"oz\", \"p\", \"p1\", \"p2\", \"p3\", \"page\", \"pagecount\",\n",
    " \"pages\", \"par\", \"part\", \"particular\", \"particularly\", \"pas\", \"past\", \"pc\", \"pd\", \"pe\", \"per\",\n",
    " \"perhaps\", \"pf\", \"ph\", \"pi\", \"pj\", \"pk\", \"pl\", \"placed\", \"please\", \"plus\", \"pm\", \"pn\", \"po\",\n",
    " \"poorly\", \"possible\", \"possibly\", \"potentially\", \"pp\", \"pq\", \"pr\", \"predominantly\", \"present\",\n",
    " \"presumably\", \"previously\", \"primarily\", \"probably\", \"promptly\", \"proud\", \"provides\", \"ps\", \"pt\",\n",
    " \"pu\", \"put\", \"py\", \"q\", \"qj\", \"qu\", \"que\", \"quickly\", \"quite\", \"qv\", \"r\", \"r2\", \"ra\", \"ran\",\n",
    " \"rather\", \"rc\", \"rd\", \"re\", \"readily\", \"really\", \"reasonably\", \"recent\", \"recently\", \"ref\",\n",
    " \"refs\", \"regarding\", \"regardless\", \"regards\", \"related\", \"relatively\", \"research\", \"research-articl\",\n",
    " \"respectively\", \"resulted\", \"resulting\", \"results\", \"rf\", \"rh\", \"ri\", \"right\", \"rj\", \"rl\", \"rm\", \"rn\",\n",
    " \"ro\", \"rq\", \"rr\", \"rs\", \"rt\", \"ru\", \"run\", \"rv\", \"ry\", \"s\", \"s2\", \"sa\", \"said\", \"same\", \"saw\", \"say\",\n",
    " \"saying\", \"says\", \"sc\", \"sd\", \"se\", \"sec\", \"second\", \"secondly\", \"section\", \"see\", \"seeing\", \"seem\",\n",
    " \"seemed\", \"seeming\", \"seems\", \"seen\", \"self\", \"selves\", \"sensible\", \"sent\", \"serious\", \"seriously\",\n",
    " \"seven\", \"several\", \"sf\", \"shall\", \"shan\", \"shan't\", \"she\", \"shed\", \"she'd\", \"she'll\", \"shes\", \"she's\",\n",
    " \"should\", \"shouldn\", \"shouldn't\", \"should've\", \"show\", \"showed\", \"shown\", \"showns\", \"shows\", \"si\", \"side\",\n",
    " \"significant\", \"significantly\", \"similar\", \"similarly\", \"since\", \"sincere\", \"six\", \"sixty\", \"sj\", \"sl\",\n",
    " \"slightly\", \"sm\", \"sn\", \"so\", \"some\", \"somebody\", \"somehow\", \"someone\", \"somethan\", \"something\",\n",
    " \"sometime\", \"sometimes\", \"somewhat\", \"somewhere\", \"soon\", \"sorry\", \"sp\", \"specifically\",\n",
    " \"specified\", \"specify\", \"specifying\", \"sq\", \"sr\", \"ss\", \"st\", \"still\", \"stop\", \"strongly\",\n",
    " \"sub\", \"substantially\", \"successfully\", \"such\", \"sufficiently\", \"suggest\", \"sup\", \"sure\",\n",
    " \"sy\", \"system\", \"sz\", \"t\", \"t1\", \"t2\", \"t3\", \"take\", \"taken\", \"taking\", \"tb\", \"tc\", \"td\",\n",
    " \"te\", \"tell\", \"ten\", \"tends\", \"tf\", \"th\", \"than\", \"thank\", \"thanks\", \"thanx\", \"that\",\n",
    " \"that'll\", \"thats\", \"that's\", \"that've\", \"the\", \"their\", \"theirs\", \"them\", \"themselves\",\n",
    " \"then\", \"thence\", \"there\", \"thereafter\", \"thereby\", \"thered\", \"therefore\", \"therein\",\n",
    " \"there'll\", \"thereof\", \"therere\", \"theres\", \"there's\", \"thereto\", \"thereupon\", \"there've\",\n",
    " \"these\", \"they\", \"theyd\", \"they'd\", \"they'll\", \"theyre\", \"they're\", \"they've\", \"thickv\",\n",
    " \"thin\", \"think\", \"third\", \"this\", \"thorough\", \"thoroughly\", \"those\", \"thou\", \"though\",\n",
    " \"thoughh\", \"thousand\", \"three\", \"throug\", \"through\", \"throughout\", \"thru\", \"thus\",\n",
    " \"ti\", \"til\", \"tip\", \"tj\", \"tl\", \"tm\", \"tn\", \"to\", \"together\", \"too\", \"took\", \"top\",\n",
    " \"toward\", \"towards\", \"tp\", \"tq\", \"tr\", \"tried\", \"tries\", \"truly\", \"try\", \"trying\",\n",
    " \"ts\", \"t's\", \"tt\", \"tv\", \"twelve\", \"twenty\", \"twice\", \"two\", \"tx\", \"u\", \"u201d\",\n",
    " \"ue\", \"ui\", \"uj\", \"uk\", \"um\", \"un\", \"under\", \"unfortunately\", \"unless\", \"unlike\",\n",
    " \"unlikely\", \"until\", \"unto\", \"uo\", \"up\", \"upon\", \"ups\", \"ur\", \"us\", \"use\", \"used\",\n",
    " \"useful\", \"usefully\", \"usefulness\", \"uses\", \"using\", \"usually\", \"ut\", \"v\", \"va\",\n",
    " \"value\", \"various\", \"vd\", \"ve\", \"ve\", \"very\", \"via\", \"viz\", \"vj\", \"vo\", \"vol\",\n",
    " \"vols\", \"volumtype\", \"vq\", \"vs\", \"vt\", \"vu\", \"w\", \"wa\", \"want\", \"wants\", \"was\",\n",
    " \"wasn\", \"wasnt\", \"wasn't\", \"way\", \"we\", \"wed\", \"we'd\", \"welcome\", \"well\", \"we'll\",\n",
    " \"well-b\", \"went\", \"were\", \"we're\", \"weren\", \"werent\", \"weren't\", \"we've\", \"what\",\n",
    " \"whatever\", \"what'll\", \"whats\", \"what's\", \"when\", \"whence\", \"whenever\", \"when's\",\n",
    " \"where\", \"whereafter\", \"whereas\", \"whereby\", \"wherein\", \"wheres\", \"where's\", \"whereupon\",\n",
    " \"wherever\", \"whether\", \"which\", \"while\", \"whim\", \"whither\", \"who\", \"whod\", \"whoever\",\n",
    " \"whole\", \"who'll\", \"whom\", \"whomever\", \"whos\", \"who's\", \"whose\", \"why\", \"why's\", \"wi\",\n",
    " \"widely\", \"will\", \"willing\", \"wish\", \"with\", \"within\", \"without\", \"wo\", \"won\", \"wonder\",\n",
    " \"wont\", \"won't\", \"words\", \"world\", \"would\", \"wouldn\", \"wouldnt\", \"wouldn't\", \"www\",\n",
    " \"x\", \"x1\", \"x2\", \"x3\", \"xf\", \"xi\", \"xj\", \"xk\", \"xl\", \"xn\", \"xo\", \"xs\", \"xt\", \"xv\",\n",
    " \"xx\", \"y\", \"y2\", \"yes\", \"yet\", \"yj\", \"yl\", \"you\", \"youd\", \"you'd\", \"you'll\", \"your\",\n",
    " \"youre\", \"you're\", \"yours\", \"yourself\", \"yourselves\", \"you've\", \"yr\", \"ys\", \"yt\",\n",
    " \"z\", \"zero\", \"zi\", \"zz\"]"
   ]
  },
  {
   "cell_type": "code",
   "execution_count": null,
   "metadata": {},
   "outputs": [],
   "source": [
    "\n",
    "## topic generation\n",
    "from bertopic import BERTopic\n",
    "from umap import UMAP\n",
    "from sklearn.feature_extraction.text import CountVectorizer\n",
    "from nltk.corpus import stopwords\n",
    "import nltk\n",
    "nltk.download('stopwords')\n",
    "from nltk import word_tokenize          \n",
    "from nltk.stem import WordNetLemmatizer\n",
    "\n",
    "# create a list of speeches\n",
    "docs = data['text'].tolist()"
   ]
  },
  {
   "cell_type": "code",
   "execution_count": 18,
   "metadata": {
    "colab": {
     "base_uri": "https://localhost:8080/"
    },
    "id": "O9uAukTLOhGX",
    "outputId": "89cd5e37-920e-47f3-d576-97d87efa7ee6"
   },
   "outputs": [
    {
     "name": "stderr",
     "output_type": "stream",
     "text": [
      "[nltk_data] Downloading package stopwords to\n",
      "[nltk_data]     C:\\Users\\xpetr\\AppData\\Roaming\\nltk_data...\n",
      "[nltk_data]   Package stopwords is already up-to-date!\n"
     ]
    }
   ],
   "source": [
    "# create stopwords list\n",
    "standard_stopwords = list(stopwords.words('english'))\n",
    "\n",
    "# extended list of English stopwords\n",
    "stopwords_extended = [ \"0o\",  ..]      \n",
    "\n",
    "# additiona tokens to remove\n",
    "additional_stopwords = ['blue','buffalo','dog','food','ha','month','ago'] \n",
    "\n",
    "# combine standard, extended stopwords, and additional tokens\n",
    "full_stopwords = standard_stopwords + additional_stopwords + stopwords_extended\n",
    "\n",
    "# define tokenizer retrurning lemmatized text without numbers\n",
    "class LemmaTokenizer:\n",
    "    def __init__(self):\n",
    "        self.wnl = WordNetLemmatizer()\n",
    "    def __call__(self, doc):\n",
    "        doc = re.sub(r'\\d+', '', doc)  # clean numbers\n",
    "        return [self.wnl.lemmatize(t) for t in word_tokenize(doc)] # lemmatize\n",
    "\n",
    "# vectorizer makes data processing and generates bigrams\n",
    "vectorizer_model = CountVectorizer(tokenizer=LemmaTokenizer(),\n",
    "                                  ngram_range=(2, 2),\n",
    "                                  stop_words=full_stopwords)\n",
    "\n",
    "# set-up model\n",
    "model = BERTopic(n_gram_range=(2,2), # returns bigrams\n",
    "                nr_topics=9,         # generate 9 topics, leave -1 for outliers\n",
    "                top_n_words=20,      # return top 20 bigrams\n",
    "                min_topic_size=20,   # each topic contains at least 20 tokens\n",
    "                vectorizer_model=vectorizer_model,\n",
    "                umap_model = UMAP(random_state=1))  # setting seed topics reproduce\n",
    "\n",
    "# fit model to data\n",
    "topics, probabilities = model.fit_transform(docs)"
   ]
  },
  {
   "cell_type": "code",
   "execution_count": 19,
   "metadata": {},
   "outputs": [
    {
     "data": {
      "text/html": [
       "<div>\n",
       "<style scoped>\n",
       "    .dataframe tbody tr th:only-of-type {\n",
       "        vertical-align: middle;\n",
       "    }\n",
       "\n",
       "    .dataframe tbody tr th {\n",
       "        vertical-align: top;\n",
       "    }\n",
       "\n",
       "    .dataframe thead th {\n",
       "        text-align: right;\n",
       "    }\n",
       "</style>\n",
       "<table border=\"1\" class=\"dataframe\">\n",
       "  <thead>\n",
       "    <tr style=\"text-align: right;\">\n",
       "      <th></th>\n",
       "      <th>Topic</th>\n",
       "      <th>Count</th>\n",
       "      <th>Name</th>\n",
       "      <th>Representation</th>\n",
       "      <th>Representative_Docs</th>\n",
       "    </tr>\n",
       "  </thead>\n",
       "  <tbody>\n",
       "    <tr>\n",
       "      <th>0</th>\n",
       "      <td>-1</td>\n",
       "      <td>864</td>\n",
       "      <td>-1_pet store_brown rice_grain free_love love</td>\n",
       "      <td>[pet store, brown rice, grain free, love love,...</td>\n",
       "      <td>[I usually feed my dog Blue Buffalo, but for s...</td>\n",
       "    </tr>\n",
       "    <tr>\n",
       "      <th>1</th>\n",
       "      <td>0</td>\n",
       "      <td>1197</td>\n",
       "      <td>0_picky eater_great love_pet store_love great</td>\n",
       "      <td>[picky eater, great love, pet store, love grea...</td>\n",
       "      <td>[Dogs love this brand and this flavor!, Our do...</td>\n",
       "    </tr>\n",
       "    <tr>\n",
       "      <th>2</th>\n",
       "      <td>1</td>\n",
       "      <td>501</td>\n",
       "      <td>1_love love_love good_love great_love stuff</td>\n",
       "      <td>[love love, love good, love great, love stuff,...</td>\n",
       "      <td>[My dog loves it so I love it too.  The small ...</td>\n",
       "    </tr>\n",
       "    <tr>\n",
       "      <th>3</th>\n",
       "      <td>2</td>\n",
       "      <td>482</td>\n",
       "      <td>2_life protection_bag amazon_protection formul...</td>\n",
       "      <td>[life protection, bag amazon, protection formu...</td>\n",
       "      <td>[I rarely go online to review products that I ...</td>\n",
       "    </tr>\n",
       "    <tr>\n",
       "      <th>4</th>\n",
       "      <td>3</td>\n",
       "      <td>277</td>\n",
       "      <td>3_great product_good price_great price_product...</td>\n",
       "      <td>[great product, good price, great price, produ...</td>\n",
       "      <td>[Great product, Great product good price, sent...</td>\n",
       "    </tr>\n",
       "    <tr>\n",
       "      <th>5</th>\n",
       "      <td>4</td>\n",
       "      <td>173</td>\n",
       "      <td>4_box bag_bag ripped_hole bag_inside box</td>\n",
       "      <td>[box bag, bag ripped, hole bag, inside box, op...</td>\n",
       "      <td>[The shipping box was in perfect condition, bu...</td>\n",
       "    </tr>\n",
       "    <tr>\n",
       "      <th>6</th>\n",
       "      <td>5</td>\n",
       "      <td>64</td>\n",
       "      <td>5_great good_good great_great great_good good</td>\n",
       "      <td>[great good, good great, great great, good goo...</td>\n",
       "      <td>[Good, Good!, Not as good as I thought would be]</td>\n",
       "    </tr>\n",
       "    <tr>\n",
       "      <th>7</th>\n",
       "      <td>6</td>\n",
       "      <td>36</td>\n",
       "      <td>6_coat shiny_love coat_great coat_coat love</td>\n",
       "      <td>[coat shiny, love coat, great coat, coat love,...</td>\n",
       "      <td>[My pitbull loves this food and it keeps his c...</td>\n",
       "    </tr>\n",
       "    <tr>\n",
       "      <th>8</th>\n",
       "      <td>7</td>\n",
       "      <td>27</td>\n",
       "      <td>7_perfect perfect_ama esta_esta comida_perfect...</td>\n",
       "      <td>[perfect perfect, ama esta, esta comida, perfe...</td>\n",
       "      <td>[Mi perrito ama esta comida, Mi mascota ama es...</td>\n",
       "    </tr>\n",
       "  </tbody>\n",
       "</table>\n",
       "</div>"
      ],
      "text/plain": [
       "   Topic  Count                                               Name  \\\n",
       "0     -1    864       -1_pet store_brown rice_grain free_love love   \n",
       "1      0   1197      0_picky eater_great love_pet store_love great   \n",
       "2      1    501        1_love love_love good_love great_love stuff   \n",
       "3      2    482  2_life protection_bag amazon_protection formul...   \n",
       "4      3    277  3_great product_good price_great price_product...   \n",
       "5      4    173           4_box bag_bag ripped_hole bag_inside box   \n",
       "6      5     64      5_great good_good great_great great_good good   \n",
       "7      6     36        6_coat shiny_love coat_great coat_coat love   \n",
       "8      7     27  7_perfect perfect_ama esta_esta comida_perfect...   \n",
       "\n",
       "                                      Representation  \\\n",
       "0  [pet store, brown rice, grain free, love love,...   \n",
       "1  [picky eater, great love, pet store, love grea...   \n",
       "2  [love love, love good, love great, love stuff,...   \n",
       "3  [life protection, bag amazon, protection formu...   \n",
       "4  [great product, good price, great price, produ...   \n",
       "5  [box bag, bag ripped, hole bag, inside box, op...   \n",
       "6  [great good, good great, great great, good goo...   \n",
       "7  [coat shiny, love coat, great coat, coat love,...   \n",
       "8  [perfect perfect, ama esta, esta comida, perfe...   \n",
       "\n",
       "                                 Representative_Docs  \n",
       "0  [I usually feed my dog Blue Buffalo, but for s...  \n",
       "1  [Dogs love this brand and this flavor!, Our do...  \n",
       "2  [My dog loves it so I love it too.  The small ...  \n",
       "3  [I rarely go online to review products that I ...  \n",
       "4  [Great product, Great product good price, sent...  \n",
       "5  [The shipping box was in perfect condition, bu...  \n",
       "6   [Good, Good!, Not as good as I thought would be]  \n",
       "7  [My pitbull loves this food and it keeps his c...  \n",
       "8  [Mi perrito ama esta comida, Mi mascota ama es...  "
      ]
     },
     "execution_count": 19,
     "metadata": {},
     "output_type": "execute_result"
    }
   ],
   "source": [
    "model.get_topic_info()"
   ]
  },
  {
   "cell_type": "code",
   "execution_count": 20,
   "metadata": {},
   "outputs": [
    {
     "data": {
      "text/html": [
       "<div>\n",
       "<style scoped>\n",
       "    .dataframe tbody tr th:only-of-type {\n",
       "        vertical-align: middle;\n",
       "    }\n",
       "\n",
       "    .dataframe tbody tr th {\n",
       "        vertical-align: top;\n",
       "    }\n",
       "\n",
       "    .dataframe thead th {\n",
       "        text-align: right;\n",
       "    }\n",
       "</style>\n",
       "<table border=\"1\" class=\"dataframe\">\n",
       "  <thead>\n",
       "    <tr style=\"text-align: right;\">\n",
       "      <th></th>\n",
       "      <th>Topic_0_word</th>\n",
       "      <th>Topic_1_word</th>\n",
       "      <th>Topic_2_word</th>\n",
       "      <th>Topic_3_word</th>\n",
       "      <th>Topic_4_word</th>\n",
       "      <th>Topic_5_word</th>\n",
       "      <th>Topic_6_word</th>\n",
       "      <th>Topic_7_word</th>\n",
       "    </tr>\n",
       "  </thead>\n",
       "  <tbody>\n",
       "    <tr>\n",
       "      <th>0</th>\n",
       "      <td>picky eater</td>\n",
       "      <td>love love</td>\n",
       "      <td>life protection</td>\n",
       "      <td>great product</td>\n",
       "      <td>box bag</td>\n",
       "      <td>great good</td>\n",
       "      <td>coat shiny</td>\n",
       "      <td>perfect perfect</td>\n",
       "    </tr>\n",
       "    <tr>\n",
       "      <th>1</th>\n",
       "      <td>great love</td>\n",
       "      <td>love good</td>\n",
       "      <td>bag amazon</td>\n",
       "      <td>good price</td>\n",
       "      <td>bag ripped</td>\n",
       "      <td>good great</td>\n",
       "      <td>love coat</td>\n",
       "      <td>ama esta</td>\n",
       "    </tr>\n",
       "    <tr>\n",
       "      <th>2</th>\n",
       "      <td>pet store</td>\n",
       "      <td>love great</td>\n",
       "      <td>protection formula</td>\n",
       "      <td>great price</td>\n",
       "      <td>hole bag</td>\n",
       "      <td>great great</td>\n",
       "      <td>great coat</td>\n",
       "      <td>esta comida</td>\n",
       "    </tr>\n",
       "    <tr>\n",
       "      <th>3</th>\n",
       "      <td>love great</td>\n",
       "      <td>love stuff</td>\n",
       "      <td>pet store</td>\n",
       "      <td>product great</td>\n",
       "      <td>inside box</td>\n",
       "      <td>good good</td>\n",
       "      <td>coat love</td>\n",
       "      <td>perfect yum</td>\n",
       "    </tr>\n",
       "    <tr>\n",
       "      <th>4</th>\n",
       "      <td>absolutely love</td>\n",
       "      <td>great product</td>\n",
       "      <td>healthy weight</td>\n",
       "      <td>good product</td>\n",
       "      <td>opened box</td>\n",
       "      <td>excellent great</td>\n",
       "      <td>coat beautiful</td>\n",
       "      <td>sabor estas</td>\n",
       "    </tr>\n",
       "    <tr>\n",
       "      <th>5</th>\n",
       "      <td>sensitive stomach</td>\n",
       "      <td>love brand</td>\n",
       "      <td>read review</td>\n",
       "      <td>fast delivery</td>\n",
       "      <td>bag hole</td>\n",
       "      <td>great excellent</td>\n",
       "      <td>coat nice</td>\n",
       "      <td>perra tiene</td>\n",
       "    </tr>\n",
       "    <tr>\n",
       "      <th>6</th>\n",
       "      <td>good quality</td>\n",
       "      <td>love healthy</td>\n",
       "      <td>year love</td>\n",
       "      <td>buy great</td>\n",
       "      <td>bag box</td>\n",
       "      <td>nice great</td>\n",
       "      <td>love great</td>\n",
       "      <td>son unicas</td>\n",
       "    </tr>\n",
       "    <tr>\n",
       "      <th>7</th>\n",
       "      <td>healthy weight</td>\n",
       "      <td>love product</td>\n",
       "      <td>brown rice</td>\n",
       "      <td>price great</td>\n",
       "      <td>bag open</td>\n",
       "      <td>great awesome</td>\n",
       "      <td>shiny coat</td>\n",
       "      <td>pero esta</td>\n",
       "    </tr>\n",
       "    <tr>\n",
       "      <th>8</th>\n",
       "      <td>great price</td>\n",
       "      <td>pup love</td>\n",
       "      <td>bought bag</td>\n",
       "      <td>product good</td>\n",
       "      <td>bag opened</td>\n",
       "      <td>great woof</td>\n",
       "      <td>shiny love</td>\n",
       "      <td>tiene toda</td>\n",
       "    </tr>\n",
       "    <tr>\n",
       "      <th>9</th>\n",
       "      <td>picky love</td>\n",
       "      <td>product love</td>\n",
       "      <td>blood work</td>\n",
       "      <td>excellent product</td>\n",
       "      <td>shipping box</td>\n",
       "      <td>great nice</td>\n",
       "      <td>nice shiny</td>\n",
       "      <td>toda necesidades</td>\n",
       "    </tr>\n",
       "    <tr>\n",
       "      <th>10</th>\n",
       "      <td>subscribe save</td>\n",
       "      <td>healthy love</td>\n",
       "      <td>high quality</td>\n",
       "      <td>quick delivery</td>\n",
       "      <td>ripped open</td>\n",
       "      <td>awesome awesome</td>\n",
       "      <td>coat soft</td>\n",
       "      <td>traga bien</td>\n",
       "    </tr>\n",
       "    <tr>\n",
       "      <th>11</th>\n",
       "      <td>stomach issue</td>\n",
       "      <td>love happy</td>\n",
       "      <td>reading review</td>\n",
       "      <td>quality good</td>\n",
       "      <td>huge hole</td>\n",
       "      <td>awesome woof</td>\n",
       "      <td>shiny soft</td>\n",
       "      <td>una compra</td>\n",
       "    </tr>\n",
       "    <tr>\n",
       "      <th>12</th>\n",
       "      <td>love brand</td>\n",
       "      <td>stuff love</td>\n",
       "      <td>science diet</td>\n",
       "      <td>expensive expensive</td>\n",
       "      <td>bag bag</td>\n",
       "      <td>nice good</td>\n",
       "      <td>healthy weight</td>\n",
       "      <td>una pastor</td>\n",
       "    </tr>\n",
       "    <tr>\n",
       "      <th>13</th>\n",
       "      <td>great quality</td>\n",
       "      <td>great price</td>\n",
       "      <td>buying year</td>\n",
       "      <td>delivery great</td>\n",
       "      <td>received bag</td>\n",
       "      <td>woof nice</td>\n",
       "      <td>shiny eating</td>\n",
       "      <td>perrito ama</td>\n",
       "    </tr>\n",
       "    <tr>\n",
       "      <th>14</th>\n",
       "      <td>delivered door</td>\n",
       "      <td>small bite</td>\n",
       "      <td>grocery store</td>\n",
       "      <td>love product</td>\n",
       "      <td>box box</td>\n",
       "      <td>good fine</td>\n",
       "      <td>shorthair nice</td>\n",
       "      <td>mi madre</td>\n",
       "    </tr>\n",
       "    <tr>\n",
       "      <th>15</th>\n",
       "      <td>brown rice</td>\n",
       "      <td>happy happy</td>\n",
       "      <td>lamb rice</td>\n",
       "      <td>price product</td>\n",
       "      <td>intact bag</td>\n",
       "      <td>thought great</td>\n",
       "      <td>improvement coat</td>\n",
       "      <td>mi mascota</td>\n",
       "    </tr>\n",
       "    <tr>\n",
       "      <th>16</th>\n",
       "      <td>love flavor</td>\n",
       "      <td>great love</td>\n",
       "      <td>quality ingredient</td>\n",
       "      <td>delivery good</td>\n",
       "      <td>bag torn</td>\n",
       "      <td>woof great</td>\n",
       "      <td>great doggo</td>\n",
       "      <td>aburrian otras</td>\n",
       "    </tr>\n",
       "    <tr>\n",
       "      <th>17</th>\n",
       "      <td>love love</td>\n",
       "      <td>good love</td>\n",
       "      <td>picky eater</td>\n",
       "      <td>product buy</td>\n",
       "      <td>bag sliced</td>\n",
       "      <td>good thought</td>\n",
       "      <td>good switching</td>\n",
       "      <td>mi perrito</td>\n",
       "    </tr>\n",
       "    <tr>\n",
       "      <th>18</th>\n",
       "      <td>grain free</td>\n",
       "      <td>love pup</td>\n",
       "      <td>feeding year</td>\n",
       "      <td>delivered door</td>\n",
       "      <td>bag damaged</td>\n",
       "      <td>excellent good</td>\n",
       "      <td>gobble healthy</td>\n",
       "      <td>perfect bueno</td>\n",
       "    </tr>\n",
       "    <tr>\n",
       "      <th>19</th>\n",
       "      <td>love good</td>\n",
       "      <td>price love</td>\n",
       "      <td>purchased bag</td>\n",
       "      <td>price good</td>\n",
       "      <td>spilled box</td>\n",
       "      <td>good excellent</td>\n",
       "      <td>healthier coat</td>\n",
       "      <td>pastor aleman</td>\n",
       "    </tr>\n",
       "  </tbody>\n",
       "</table>\n",
       "</div>"
      ],
      "text/plain": [
       "         Topic_0_word   Topic_1_word        Topic_2_word         Topic_3_word  \\\n",
       "0         picky eater      love love     life protection        great product   \n",
       "1          great love      love good          bag amazon           good price   \n",
       "2           pet store     love great  protection formula          great price   \n",
       "3          love great     love stuff           pet store        product great   \n",
       "4     absolutely love  great product      healthy weight         good product   \n",
       "5   sensitive stomach     love brand         read review        fast delivery   \n",
       "6        good quality   love healthy           year love            buy great   \n",
       "7      healthy weight   love product          brown rice          price great   \n",
       "8         great price       pup love          bought bag         product good   \n",
       "9          picky love   product love          blood work    excellent product   \n",
       "10     subscribe save   healthy love        high quality       quick delivery   \n",
       "11      stomach issue     love happy      reading review         quality good   \n",
       "12         love brand     stuff love        science diet  expensive expensive   \n",
       "13      great quality    great price         buying year       delivery great   \n",
       "14     delivered door     small bite       grocery store         love product   \n",
       "15         brown rice    happy happy           lamb rice        price product   \n",
       "16        love flavor     great love  quality ingredient        delivery good   \n",
       "17          love love      good love         picky eater          product buy   \n",
       "18         grain free       love pup        feeding year       delivered door   \n",
       "19          love good     price love       purchased bag           price good   \n",
       "\n",
       "    Topic_4_word     Topic_5_word      Topic_6_word      Topic_7_word  \n",
       "0        box bag       great good        coat shiny   perfect perfect  \n",
       "1     bag ripped       good great         love coat          ama esta  \n",
       "2       hole bag      great great        great coat       esta comida  \n",
       "3     inside box        good good         coat love       perfect yum  \n",
       "4     opened box  excellent great    coat beautiful       sabor estas  \n",
       "5       bag hole  great excellent         coat nice       perra tiene  \n",
       "6        bag box       nice great        love great        son unicas  \n",
       "7       bag open    great awesome        shiny coat         pero esta  \n",
       "8     bag opened       great woof        shiny love        tiene toda  \n",
       "9   shipping box       great nice        nice shiny  toda necesidades  \n",
       "10   ripped open  awesome awesome         coat soft        traga bien  \n",
       "11     huge hole     awesome woof        shiny soft        una compra  \n",
       "12       bag bag        nice good    healthy weight        una pastor  \n",
       "13  received bag        woof nice      shiny eating       perrito ama  \n",
       "14       box box        good fine    shorthair nice          mi madre  \n",
       "15    intact bag    thought great  improvement coat        mi mascota  \n",
       "16      bag torn       woof great       great doggo    aburrian otras  \n",
       "17    bag sliced     good thought    good switching        mi perrito  \n",
       "18   bag damaged   excellent good    gobble healthy     perfect bueno  \n",
       "19   spilled box   good excellent    healthier coat     pastor aleman  "
      ]
     },
     "execution_count": 20,
     "metadata": {},
     "output_type": "execute_result"
    }
   ],
   "source": [
    "# Create dataframe with bigrams sorted by probabilities\n",
    "import pandas as pd\n",
    "\n",
    "# Retrieve the bigrams for each topic and select only the word columns\n",
    "topic_0 = pd.DataFrame(model.get_topic(0), columns=[\"Topic_0_word\", \"Topic_0_prob\"])[[\"Topic_0_word\"]]\n",
    "topic_1 = pd.DataFrame(model.get_topic(1), columns=[\"Topic_1_word\", \"Topic_1_prob\"])[[\"Topic_1_word\"]]\n",
    "topic_2 = pd.DataFrame(model.get_topic(2), columns=[\"Topic_2_word\", \"Topic_2_prob\"])[[\"Topic_2_word\"]]\n",
    "topic_3 = pd.DataFrame(model.get_topic(3), columns=[\"Topic_3_word\", \"Topic_3_prob\"])[[\"Topic_3_word\"]]\n",
    "topic_4 = pd.DataFrame(model.get_topic(4), columns=[\"Topic_4_word\", \"Topic_4_prob\"])[[\"Topic_4_word\"]]\n",
    "topic_5 = pd.DataFrame(model.get_topic(5), columns=[\"Topic_5_word\", \"Topic_5_prob\"])[[\"Topic_5_word\"]]\n",
    "topic_6 = pd.DataFrame(model.get_topic(6), columns=[\"Topic_6_word\", \"Topic_6_prob\"])[[\"Topic_6_word\"]]\n",
    "topic_7 = pd.DataFrame(model.get_topic(7), columns=[\"Topic_7_word\", \"Topic_7_prob\"])[[\"Topic_7_word\"]]\n",
    "\n",
    "# # # Concatenate the DataFrames\n",
    "topics_df = pd.concat([topic_0, topic_1, topic_2, topic_3, topic_4, topic_5, topic_6,topic_7], axis=1)\n",
    "topics_df"
   ]
  },
  {
   "cell_type": "code",
   "execution_count": 21,
   "metadata": {},
   "outputs": [],
   "source": [
    "topics_df.to_excel('bigrams_bertopic_8_top20.xlsx', index=False)"
   ]
  },
  {
   "cell_type": "code",
   "execution_count": 23,
   "metadata": {},
   "outputs": [
    {
     "data": {
      "application/vnd.plotly.v1+json": {
       "config": {
        "plotlyServerURL": "https://plot.ly"
       },
       "data": [
        {
         "hoverinfo": "text",
         "hovertext": [
          "<b>Topic 0</b><br>Words: kid eat, eat veggie, bowel problem, started eat, picky eater",
          "<b>Topic 0</b><br>Words: price amazon, good quality, great price, price local, boston terrier",
          "<b>Topic 0</b><br>Words: skin issue, love great, licking foot, pound great, helped skin",
          "<b>Topic 0</b><br>Words: switched eats, great love, good quality, pet store, good price",
          "<b>Topic 0</b><br>Words: door love, upset stomach, sensitive stomach, double butt, delivered door",
          "<b>Topic 0</b><br>Words: absolutely love, mold growing, brand flavor, eating year, subscribe save",
          "<b>Topic 0</b><br>Words: love great, great price, german shepherd, great dogfood, good price",
          "<b>Topic 0</b><br>Words: picky eater, ingredient turkey, warm water, corn wheat, great love",
          "<b>Topic 0</b><br>Words: year love, picky eater, switched expensive, today friday, monday today",
          "<b>Topic 0</b><br>Words: picky eater, dont life, love stomach, bowl eat, lead poisoning",
          "<b>Topic 0</b><br>Words: love brand, love good, love healthy, mixed year, year golden",
          "<b>Topic 0</b><br>Words: grain free, time day, love taste, chicken base, poop time",
          "<b>Topic 0</b><br>Words: picky eater, big bag, subscribe save, local pet, eats puppy",
          "<b>Topic 0</b><br>Words: dry great, treat good, good nutritional, box size, time eats",
          "<b>Topic 0</b><br>Words: love great, refused eat, bad batch, eat small, morning evening",
          "<b>Topic 0</b><br>Words: grain free, science diet, tiny yorky, love big, eat poop",
          "<b>Topic 0</b><br>Words: fur baby, pet store, day stool, bad breath, increase price",
          "<b>Topic 0</b><br>Words: cup pound, bag cup, absolutely love, pound bag, black kibble",
          "<b>Topic 0</b><br>Words: didnt care, dry love, started vomiting, border collie, cheaper local",
          "<b>Topic 0</b><br>Words: ingredient quality, picky eater, good quality, smell chicken, diarrhea eating"
         ],
         "marker": {
          "color": "#E69F00"
         },
         "mode": "lines",
         "name": "0",
         "type": "scatter",
         "x": [
          "2015-12-31T04:12:00",
          "2016-04-02T06:00:00",
          "2016-07-02T12:00:00",
          "2016-10-01T18:00:00",
          "2017-01-01T00:00:00",
          "2017-04-02T06:00:00",
          "2017-07-02T12:00:00",
          "2017-10-01T18:00:00",
          "2018-01-01T00:00:00",
          "2018-04-02T06:00:00",
          "2018-07-02T12:00:00",
          "2018-10-01T18:00:00",
          "2019-01-01T00:00:00",
          "2019-04-02T06:00:00",
          "2019-07-02T12:00:00",
          "2019-10-01T18:00:00",
          "2020-01-01T00:00:00",
          "2020-04-01T06:00:00",
          "2020-07-01T12:00:00",
          "2020-09-30T18:00:00"
         ],
         "y": [
          60,
          64,
          57,
          48,
          49,
          49,
          69,
          51,
          60,
          55,
          65,
          59,
          51,
          71,
          66,
          64,
          70,
          66,
          57,
          66
         ]
        },
        {
         "hoverinfo": "text",
         "hovertext": [
          "<b>Topic 1</b><br>Words: love love, love product, love great, happy happy, great product",
          "<b>Topic 1</b><br>Words: love love, cheaper pet, love healthy, love brand, love good",
          "<b>Topic 1</b><br>Words: love love, love great, love stuff, happy love, great love",
          "<b>Topic 1</b><br>Words: small breed, product good, love love, bigger male, number time",
          "<b>Topic 1</b><br>Words: love love, product love, love good, good product, love healthy",
          "<b>Topic 1</b><br>Words: love love, product love, small bite, great love, great product",
          "<b>Topic 1</b><br>Words: love love, small bite, legged child, crazy brand, cosequin sevenyearold",
          "<b>Topic 1</b><br>Words: love love, husky approves, toxic gas, fan love, corgi love",
          "<b>Topic 1</b><br>Words: love love, love great, great mut, pomeranian love, priced hated",
          "<b>Topic 1</b><br>Words: love love, pup love, trip pet, win win, great product",
          "<b>Topic 1</b><br>Words: love love, love great, fur baby, love good, love stuff",
          "<b>Topic 1</b><br>Words: love love, bite hard, great price, love good, love stuff",
          "<b>Topic 1</b><br>Words: love good, love love, love happy, baby love, love product",
          "<b>Topic 1</b><br>Words: love love, gon order, love woof, brand price, seeminglee good",
          "<b>Topic 1</b><br>Words: pup love, love great, great love, love love, send timing",
          "<b>Topic 1</b><br>Words: healthy love, love healthy, love love, woof delicious, longer life",
          "<b>Topic 1</b><br>Words: love love, price love, love great, love brand, love product",
          "<b>Topic 1</b><br>Words: producthealthy result, fido enjoy, loved satisfied, price storez, love guy",
          "<b>Topic 1</b><br>Words: love small, love stuff, deal recommend, pug happy, easy forget",
          "<b>Topic 1</b><br>Words: price good, kind stink, pit love, supposed good, hit albee"
         ],
         "marker": {
          "color": "#56B4E9"
         },
         "mode": "lines",
         "name": "1",
         "type": "scatter",
         "x": [
          "2015-12-31T04:12:00",
          "2016-04-02T06:00:00",
          "2016-07-02T12:00:00",
          "2016-10-01T18:00:00",
          "2017-01-01T00:00:00",
          "2017-04-02T06:00:00",
          "2017-07-02T12:00:00",
          "2017-10-01T18:00:00",
          "2018-01-01T00:00:00",
          "2018-04-02T06:00:00",
          "2018-07-02T12:00:00",
          "2018-10-01T18:00:00",
          "2019-01-01T00:00:00",
          "2019-04-02T06:00:00",
          "2019-07-02T12:00:00",
          "2019-10-01T18:00:00",
          "2020-01-01T00:00:00",
          "2020-04-01T06:00:00",
          "2020-07-01T12:00:00",
          "2020-09-30T18:00:00"
         ],
         "y": [
          36,
          28,
          38,
          14,
          35,
          25,
          19,
          13,
          20,
          23,
          27,
          25,
          26,
          19,
          23,
          35,
          35,
          16,
          24,
          20
         ]
        },
        {
         "hoverinfo": "text",
         "hovertext": [
          "<b>Topic 2</b><br>Words: skin issue, tear stain, life protection, good quality, hound half",
          "<b>Topic 2</b><br>Words: corgi mix, year pleased, diabetes love, ear infection, weve feeding",
          "<b>Topic 2</b><br>Words: purchasing brand, rice egg, online brand, egg yoke, white rice",
          "<b>Topic 2</b><br>Words: small bite, teeth removed, bite formula, great product, life protection",
          "<b>Topic 2</b><br>Words: hour hour, acute pancreatitis, straight liquid, trip vet, recommend product",
          "<b>Topic 2</b><br>Words: vet feeding, purchasing year, year beagle, order amazon, store filled",
          "<b>Topic 2</b><br>Words: product feeding, love switch, issue time, hot spot, doesnt eat",
          "<b>Topic 2</b><br>Words: life protection, switched diamond, eating habit, diamond natural, picky eater",
          "<b>Topic 2</b><br>Words: suggested feeding, good switched, lead content, high lead, feeding instruction",
          "<b>Topic 2</b><br>Words: grain allergy, started bloody, amazon email, fed puppy, bloody loose",
          "<b>Topic 2</b><br>Words: pet store, store didnt, amazon subscribe, issue vet, brand flavor",
          "<b>Topic 2</b><br>Words: blood work, started feeding, work normal, eating life, life year",
          "<b>Topic 2</b><br>Words: lamb rice, stool vomiting, struvite crystal, bag target, pet store",
          "<b>Topic 2</b><br>Words: didnt didnt, read review, bag bought, brand lowered, nationally advertised",
          "<b>Topic 2</b><br>Words: vomiting diarrhea, bag amazon, save dollar, issue quality, great health",
          "<b>Topic 2</b><br>Words: read review, chicken brown, brown rice, siberian husky, softwet canned",
          "<b>Topic 2</b><br>Words: real meat, fur baby, life protection, absolutely disgusted, adult dry",
          "<b>Topic 2</b><br>Words: review amazon, life protection, understand product, write review, week started",
          "<b>Topic 2</b><br>Words: bag amazon, vet told, life protection, company sold, simply afford",
          "<b>Topic 2</b><br>Words: protection formula, life protection, protein diet, good review, high protein"
         ],
         "marker": {
          "color": "#009E73"
         },
         "mode": "lines",
         "name": "2",
         "type": "scatter",
         "x": [
          "2015-12-31T04:12:00",
          "2016-04-02T06:00:00",
          "2016-07-02T12:00:00",
          "2016-10-01T18:00:00",
          "2017-01-01T00:00:00",
          "2017-04-02T06:00:00",
          "2017-07-02T12:00:00",
          "2017-10-01T18:00:00",
          "2018-01-01T00:00:00",
          "2018-04-02T06:00:00",
          "2018-07-02T12:00:00",
          "2018-10-01T18:00:00",
          "2019-01-01T00:00:00",
          "2019-04-02T06:00:00",
          "2019-07-02T12:00:00",
          "2019-10-01T18:00:00",
          "2020-01-01T00:00:00",
          "2020-04-01T06:00:00",
          "2020-07-01T12:00:00",
          "2020-09-30T18:00:00"
         ],
         "y": [
          38,
          31,
          23,
          25,
          24,
          15,
          23,
          23,
          26,
          14,
          16,
          26,
          26,
          24,
          23,
          33,
          23,
          17,
          32,
          20
         ]
        },
        {
         "hoverinfo": "text",
         "hovertext": [
          "<b>Topic 3</b><br>Words: product great, great product, good product, product priceconvenient, package love",
          "<b>Topic 3</b><br>Words: great product, delivery price, fast delivery, product great, love product",
          "<b>Topic 3</b><br>Words: great price, great product, product price, quality great, price good",
          "<b>Topic 3</b><br>Words: great product, good price, product great, price great, great price",
          "<b>Topic 3</b><br>Words: great product, good price, saving saving, great price, heavy bag",
          "<b>Topic 3</b><br>Words: great product, product great, good price, expected shipping, left chewy",
          "<b>Topic 3</b><br>Words: great product, product good, quality arrived, adult mistake, product quick",
          "<b>Topic 3</b><br>Words: great product, fast delivery, good price, product great, packaging barely",
          "<b>Topic 3</b><br>Words: arrived time, great product, deal excellent, excellent buy, quality feed",
          "<b>Topic 3</b><br>Words: good price, convenient good, item perfectly, expected timely, timely fashion",
          "<b>Topic 3</b><br>Words: good price, cardboard shipping, deliver doormany, crazy fast, received timehowever",
          "<b>Topic 3</b><br>Words: product great, great product, great price, perfect good, stuff convenient",
          "<b>Topic 3</b><br>Words: expensive expensive, good price, lift arrive, quality item, item worth",
          "<b>Topic 3</b><br>Words: great product, youi received, macie great, time macie, service continueslove",
          "<b>Topic 3</b><br>Words: win win, service work, convenience price, work win, work service",
          "<b>Topic 3</b><br>Words: recommend customer, doe promised, cheaper pick, coming monthly, needed recommend",
          "<b>Topic 3</b><br>Words: great price, great product, extra product, product requested, bot hooman",
          "<b>Topic 3</b><br>Words: early order, expect time, good pick, great speedy, speedy delivery",
          "<b>Topic 3</b><br>Words: good price, price quality, great price, great product, product great",
          "<b>Topic 3</b><br>Words: price good, good price, increased brand, return recall, price increased"
         ],
         "marker": {
          "color": "#F0E442"
         },
         "mode": "lines",
         "name": "3",
         "type": "scatter",
         "x": [
          "2015-12-31T04:12:00",
          "2016-04-02T06:00:00",
          "2016-07-02T12:00:00",
          "2016-10-01T18:00:00",
          "2017-01-01T00:00:00",
          "2017-04-02T06:00:00",
          "2017-07-02T12:00:00",
          "2017-10-01T18:00:00",
          "2018-01-01T00:00:00",
          "2018-04-02T06:00:00",
          "2018-07-02T12:00:00",
          "2018-10-01T18:00:00",
          "2019-01-01T00:00:00",
          "2019-04-02T06:00:00",
          "2019-07-02T12:00:00",
          "2019-10-01T18:00:00",
          "2020-01-01T00:00:00",
          "2020-04-01T06:00:00",
          "2020-07-01T12:00:00",
          "2020-09-30T18:00:00"
         ],
         "y": [
          20,
          18,
          21,
          17,
          20,
          18,
          10,
          12,
          12,
          15,
          14,
          7,
          14,
          13,
          9,
          10,
          10,
          10,
          15,
          12
         ]
        },
        {
         "hoverinfo": "text",
         "hovertext": [
          "<b>Topic 4</b><br>Words: step recommend, reviewer bag, purina beneful, brand major, beneful brand",
          "<b>Topic 4</b><br>Words: ruptured bag, return product, seam heavy, minor rip, tear issue",
          "<b>Topic 4</b><br>Words: tag hole, received shipping, grest price, returned product, concerned red",
          "<b>Topic 4</b><br>Words: compared bag, container hole, place container, doe normal, petco fresh",
          "<b>Topic 4</b><br>Words: secure proper, delivered hint, lugging heavy, appears moving, hint tear",
          "<b>Topic 4</b><br>Words: bag bag, large hole, opened box, ended costing, disappointed save",
          "<b>Topic 4</b><br>Words: spilled inside, condition bag, box perfect, open spilled, perfect condition",
          "<b>Topic 4</b><br>Words: box good, inside box, hole bag, spilled box, bag ripped",
          "<b>Topic 4</b><br>Words: bag ripped, bag spilling, inside box, huge hole, box bag",
          "<b>Topic 4</b><br>Words: opened box, box bag, bag ripped, inside box, hole bag",
          "<b>Topic 4</b><br>Words: box bag, bag hole, inside box, hole bag, opened box",
          "<b>Topic 4</b><br>Words: box bag, inside box, bag ripped, bag hole, bag split",
          "<b>Topic 4</b><br>Words: threw box, bag damaged, received bag, heavy bag, hole bag",
          "<b>Topic 4</b><br>Words: ripped open, bag ripped, bag bag, box mess, chewed open",
          "<b>Topic 4</b><br>Words: inside box, hole bag, crawling inside, bag coffee, ant crawling",
          "<b>Topic 4</b><br>Words: bag ripped, opened box, box bag, inside box, bag noticed",
          "<b>Topic 4</b><br>Words: shipping box, ripped open, box bag, bag ripped, hole bag",
          "<b>Topic 4</b><br>Words: box kleenex, box box, bag ripped, inside box, hole bag",
          "<b>Topic 4</b><br>Words: hole bag, huge hole, opened box, bag box, box bag",
          "<b>Topic 4</b><br>Words: box bag, bb dry, bag open, good bag, open bag"
         ],
         "marker": {
          "color": "#D55E00"
         },
         "mode": "lines",
         "name": "4",
         "type": "scatter",
         "x": [
          "2015-12-31T04:12:00",
          "2016-04-02T06:00:00",
          "2016-07-02T12:00:00",
          "2016-10-01T18:00:00",
          "2017-01-01T00:00:00",
          "2017-04-02T06:00:00",
          "2017-07-02T12:00:00",
          "2017-10-01T18:00:00",
          "2018-01-01T00:00:00",
          "2018-04-02T06:00:00",
          "2018-07-02T12:00:00",
          "2018-10-01T18:00:00",
          "2019-01-01T00:00:00",
          "2019-04-02T06:00:00",
          "2019-07-02T12:00:00",
          "2019-10-01T18:00:00",
          "2020-01-01T00:00:00",
          "2020-04-01T06:00:00",
          "2020-07-01T12:00:00",
          "2020-09-30T18:00:00"
         ],
         "y": [
          1,
          4,
          3,
          2,
          4,
          7,
          1,
          8,
          11,
          15,
          25,
          18,
          10,
          6,
          10,
          12,
          12,
          8,
          9,
          7
         ]
        },
        {
         "hoverinfo": "text",
         "hovertext": [
          "<b>Topic 5</b><br>Words: great awesome, great good, good great, great great, good good",
          "<b>Topic 5</b><br>Words: excellent great, great awesome, great good, good great, great great",
          "<b>Topic 5</b><br>Words: great good, thought great, good thought, good good, good great",
          "<b>Topic 5</b><br>Words: excellent great, great great, great good, good great, good good",
          "<b>Topic 5</b><br>Words: great great, great good, good great, good good, excellent great",
          "<b>Topic 5</b><br>Words: good good, great good, good great, great great, excellent great",
          "<b>Topic 5</b><br>Words: good nice, good good, great good, good great, great great",
          "<b>Topic 5</b><br>Words: great good, good great, great great, good good, excellent great",
          "<b>Topic 5</b><br>Words: great good, good great, great great, good good, excellent great",
          "<b>Topic 5</b><br>Words: good excellent, great good, good great, great great, good good",
          "<b>Topic 5</b><br>Words: good great, great great, great good, good good, excellent great",
          "<b>Topic 5</b><br>Words: good great, great good, great great, good good, excellent great",
          "<b>Topic 5</b><br>Words: great great, great good, good great, good good, excellent great",
          "<b>Topic 5</b><br>Words: good good, great good, good great, good fine, nice good",
          "<b>Topic 5</b><br>Words: great great, good good, great good, nice great, good nice",
          "<b>Topic 5</b><br>Words: great good, good great, great great, good good, excellent great",
          "<b>Topic 5</b><br>Words: great good, good great, great great, good good, excellent great",
          "<b>Topic 5</b><br>Words: great good, good great, great great, good good, excellent great",
          "<b>Topic 5</b><br>Words: great good, good great, great great, good good, excellent great",
          "<b>Topic 5</b><br>Words: great good, good great, great great, good good, excellent great"
         ],
         "marker": {
          "color": "#0072B2"
         },
         "mode": "lines",
         "name": "5",
         "type": "scatter",
         "x": [
          "2015-12-31T04:12:00",
          "2016-04-02T06:00:00",
          "2016-07-02T12:00:00",
          "2016-10-01T18:00:00",
          "2017-01-01T00:00:00",
          "2017-04-02T06:00:00",
          "2017-07-02T12:00:00",
          "2017-10-01T18:00:00",
          "2018-01-01T00:00:00",
          "2018-04-02T06:00:00",
          "2018-07-02T12:00:00",
          "2018-10-01T18:00:00",
          "2019-01-01T00:00:00",
          "2019-04-02T06:00:00",
          "2019-07-02T12:00:00",
          "2019-10-01T18:00:00",
          "2020-01-01T00:00:00",
          "2020-04-01T06:00:00",
          "2020-07-01T12:00:00",
          "2020-09-30T18:00:00"
         ],
         "y": [
          2,
          4,
          4,
          3,
          2,
          5,
          4,
          1,
          1,
          3,
          3,
          2,
          3,
          8,
          8,
          4,
          3,
          1,
          1,
          2
         ]
        },
        {
         "hoverinfo": "text",
         "hovertext": [
          "<b>Topic 6</b><br>Words: coat shiny, love coat, breath fresher, free problem, active basset",
          "<b>Topic 6</b><br>Words: coat shiny, love coat, coat love, small adult, breed noticed",
          "<b>Topic 6</b><br>Words: coat shiny, love coat, shiny eating, tolerates coat, shiny shelter",
          "<b>Topic 6</b><br>Words: coat weight, lab border, weight black, great coat, border collie",
          "<b>Topic 6</b><br>Words: coat nice, coat german, nice shinny, nice thick, red spot",
          "<b>Topic 6</b><br>Words: coat shiny, coat love, hard lamb, stuff coat, chicken hard",
          "<b>Topic 6</b><br>Words: eat quantity, weight doesnt, arrived coat, beautiful moved, moved healthy",
          "<b>Topic 6</b><br>Words: good switching, switching lot, coat good, great coat, energy love",
          "<b>Topic 6</b><br>Words: schnauzer coat, noticed schnauzer, shiny love, eats bowl, bowl time",
          "<b>Topic 6</b><br>Words: love coat, muscle tone, tone reserve, coat absolutely, program huge",
          "<b>Topic 6</b><br>Words: great doggo, chicken instantly, doggo allergic, issue shiny, sick allergy",
          "<b>Topic 6</b><br>Words: change hair, coat happy, gobble healthy, happy pup, hair coat",
          "<b>Topic 6</b><br>Words: chiweenie born, year dental, shine crazy, dental energy, skin great",
          "<b>Topic 6</b><br>Words: shiny importantly, quality coat, importantly healthy, coat shiny, good quality",
          "<b>Topic 6</b><br>Words: beautiful saving, coat amazing, money cheap, work pitt, bull pick"
         ],
         "marker": {
          "color": "#CC79A7"
         },
         "mode": "lines",
         "name": "6",
         "type": "scatter",
         "x": [
          "2015-12-31T04:12:00",
          "2016-04-02T06:00:00",
          "2016-07-02T12:00:00",
          "2016-10-01T18:00:00",
          "2017-04-02T06:00:00",
          "2018-01-01T00:00:00",
          "2018-04-02T06:00:00",
          "2018-10-01T18:00:00",
          "2019-01-01T00:00:00",
          "2019-04-02T06:00:00",
          "2019-07-02T12:00:00",
          "2019-10-01T18:00:00",
          "2020-01-01T00:00:00",
          "2020-07-01T12:00:00",
          "2020-09-30T18:00:00"
         ],
         "y": [
          3,
          4,
          4,
          1,
          3,
          4,
          2,
          2,
          1,
          4,
          2,
          2,
          1,
          1,
          2
         ]
        },
        {
         "hoverinfo": "text",
         "hovertext": [
          "<b>Topic 7</b><br>Words: perfect yum, perfect perfect, ama esta, esta comida, mascota ama",
          "<b>Topic 7</b><br>Words: perfect perfect, ama esta, esta comida, yeayaright diahrea, aleman traga",
          "<b>Topic 7</b><br>Words: perfect perfect, ama esta, esta comida, yeayaright diahrea, aleman traga",
          "<b>Topic 7</b><br>Words: perfect perfect, ama esta, esta comida, yeayaright diahrea, aleman traga",
          "<b>Topic 7</b><br>Words: convenient great, perfect perfect, ama esta, esta comida, encanto muy",
          "<b>Topic 7</b><br>Words: estas son, sabor estas, perra tiene, parece encanta, unicas gustado",
          "<b>Topic 7</b><br>Words: diahrea nk, perfect perfect, ama esta, esta comida, mascota ama",
          "<b>Topic 7</b><br>Words: perfect perfect, ama esta, esta comida, yeayaright diahrea, aleman traga",
          "<b>Topic 7</b><br>Words: perfect bueno, bueno quality, quality ingredient, perfect perfect, ama esta",
          "<b>Topic 7</b><br>Words: esta comida, ama esta, meses feliz, mi mascota, rapido pero",
          "<b>Topic 7</b><br>Words: perritos encanto, mi perritos, alimento muchas, gracias mi, muchas gracias",
          "<b>Topic 7</b><br>Words: perrito ama, mi perrito, ama esta, esta comida, perfect perfect",
          "<b>Topic 7</b><br>Words: perfect perfect, ama esta, esta comida, yeayaright diahrea, aleman traga"
         ],
         "marker": {
          "color": "#E69F00"
         },
         "mode": "lines",
         "name": "7",
         "type": "scatter",
         "x": [
          "2016-07-02T12:00:00",
          "2017-04-02T06:00:00",
          "2018-01-01T00:00:00",
          "2018-07-02T12:00:00",
          "2018-10-01T18:00:00",
          "2019-01-01T00:00:00",
          "2019-04-02T06:00:00",
          "2019-07-02T12:00:00",
          "2019-10-01T18:00:00",
          "2020-01-01T00:00:00",
          "2020-04-01T06:00:00",
          "2020-07-01T12:00:00",
          "2020-09-30T18:00:00"
         ],
         "y": [
          2,
          2,
          1,
          1,
          1,
          1,
          2,
          2,
          4,
          7,
          2,
          1,
          1
         ]
        }
       ],
       "layout": {
        "height": 600,
        "hoverlabel": {
         "bgcolor": "white",
         "font": {
          "family": "Rockwell",
          "size": 16
         }
        },
        "legend": {
         "title": {
          "text": "Topic"
         }
        },
        "template": {
         "data": {
          "bar": [
           {
            "error_x": {
             "color": "rgb(36,36,36)"
            },
            "error_y": {
             "color": "rgb(36,36,36)"
            },
            "marker": {
             "line": {
              "color": "white",
              "width": 0.5
             },
             "pattern": {
              "fillmode": "overlay",
              "size": 10,
              "solidity": 0.2
             }
            },
            "type": "bar"
           }
          ],
          "barpolar": [
           {
            "marker": {
             "line": {
              "color": "white",
              "width": 0.5
             },
             "pattern": {
              "fillmode": "overlay",
              "size": 10,
              "solidity": 0.2
             }
            },
            "type": "barpolar"
           }
          ],
          "carpet": [
           {
            "aaxis": {
             "endlinecolor": "rgb(36,36,36)",
             "gridcolor": "white",
             "linecolor": "white",
             "minorgridcolor": "white",
             "startlinecolor": "rgb(36,36,36)"
            },
            "baxis": {
             "endlinecolor": "rgb(36,36,36)",
             "gridcolor": "white",
             "linecolor": "white",
             "minorgridcolor": "white",
             "startlinecolor": "rgb(36,36,36)"
            },
            "type": "carpet"
           }
          ],
          "choropleth": [
           {
            "colorbar": {
             "outlinewidth": 1,
             "tickcolor": "rgb(36,36,36)",
             "ticks": "outside"
            },
            "type": "choropleth"
           }
          ],
          "contour": [
           {
            "colorbar": {
             "outlinewidth": 1,
             "tickcolor": "rgb(36,36,36)",
             "ticks": "outside"
            },
            "colorscale": [
             [
              0,
              "#440154"
             ],
             [
              0.1111111111111111,
              "#482878"
             ],
             [
              0.2222222222222222,
              "#3e4989"
             ],
             [
              0.3333333333333333,
              "#31688e"
             ],
             [
              0.4444444444444444,
              "#26828e"
             ],
             [
              0.5555555555555556,
              "#1f9e89"
             ],
             [
              0.6666666666666666,
              "#35b779"
             ],
             [
              0.7777777777777778,
              "#6ece58"
             ],
             [
              0.8888888888888888,
              "#b5de2b"
             ],
             [
              1,
              "#fde725"
             ]
            ],
            "type": "contour"
           }
          ],
          "contourcarpet": [
           {
            "colorbar": {
             "outlinewidth": 1,
             "tickcolor": "rgb(36,36,36)",
             "ticks": "outside"
            },
            "type": "contourcarpet"
           }
          ],
          "heatmap": [
           {
            "colorbar": {
             "outlinewidth": 1,
             "tickcolor": "rgb(36,36,36)",
             "ticks": "outside"
            },
            "colorscale": [
             [
              0,
              "#440154"
             ],
             [
              0.1111111111111111,
              "#482878"
             ],
             [
              0.2222222222222222,
              "#3e4989"
             ],
             [
              0.3333333333333333,
              "#31688e"
             ],
             [
              0.4444444444444444,
              "#26828e"
             ],
             [
              0.5555555555555556,
              "#1f9e89"
             ],
             [
              0.6666666666666666,
              "#35b779"
             ],
             [
              0.7777777777777778,
              "#6ece58"
             ],
             [
              0.8888888888888888,
              "#b5de2b"
             ],
             [
              1,
              "#fde725"
             ]
            ],
            "type": "heatmap"
           }
          ],
          "heatmapgl": [
           {
            "colorbar": {
             "outlinewidth": 1,
             "tickcolor": "rgb(36,36,36)",
             "ticks": "outside"
            },
            "colorscale": [
             [
              0,
              "#440154"
             ],
             [
              0.1111111111111111,
              "#482878"
             ],
             [
              0.2222222222222222,
              "#3e4989"
             ],
             [
              0.3333333333333333,
              "#31688e"
             ],
             [
              0.4444444444444444,
              "#26828e"
             ],
             [
              0.5555555555555556,
              "#1f9e89"
             ],
             [
              0.6666666666666666,
              "#35b779"
             ],
             [
              0.7777777777777778,
              "#6ece58"
             ],
             [
              0.8888888888888888,
              "#b5de2b"
             ],
             [
              1,
              "#fde725"
             ]
            ],
            "type": "heatmapgl"
           }
          ],
          "histogram": [
           {
            "marker": {
             "line": {
              "color": "white",
              "width": 0.6
             }
            },
            "type": "histogram"
           }
          ],
          "histogram2d": [
           {
            "colorbar": {
             "outlinewidth": 1,
             "tickcolor": "rgb(36,36,36)",
             "ticks": "outside"
            },
            "colorscale": [
             [
              0,
              "#440154"
             ],
             [
              0.1111111111111111,
              "#482878"
             ],
             [
              0.2222222222222222,
              "#3e4989"
             ],
             [
              0.3333333333333333,
              "#31688e"
             ],
             [
              0.4444444444444444,
              "#26828e"
             ],
             [
              0.5555555555555556,
              "#1f9e89"
             ],
             [
              0.6666666666666666,
              "#35b779"
             ],
             [
              0.7777777777777778,
              "#6ece58"
             ],
             [
              0.8888888888888888,
              "#b5de2b"
             ],
             [
              1,
              "#fde725"
             ]
            ],
            "type": "histogram2d"
           }
          ],
          "histogram2dcontour": [
           {
            "colorbar": {
             "outlinewidth": 1,
             "tickcolor": "rgb(36,36,36)",
             "ticks": "outside"
            },
            "colorscale": [
             [
              0,
              "#440154"
             ],
             [
              0.1111111111111111,
              "#482878"
             ],
             [
              0.2222222222222222,
              "#3e4989"
             ],
             [
              0.3333333333333333,
              "#31688e"
             ],
             [
              0.4444444444444444,
              "#26828e"
             ],
             [
              0.5555555555555556,
              "#1f9e89"
             ],
             [
              0.6666666666666666,
              "#35b779"
             ],
             [
              0.7777777777777778,
              "#6ece58"
             ],
             [
              0.8888888888888888,
              "#b5de2b"
             ],
             [
              1,
              "#fde725"
             ]
            ],
            "type": "histogram2dcontour"
           }
          ],
          "mesh3d": [
           {
            "colorbar": {
             "outlinewidth": 1,
             "tickcolor": "rgb(36,36,36)",
             "ticks": "outside"
            },
            "type": "mesh3d"
           }
          ],
          "parcoords": [
           {
            "line": {
             "colorbar": {
              "outlinewidth": 1,
              "tickcolor": "rgb(36,36,36)",
              "ticks": "outside"
             }
            },
            "type": "parcoords"
           }
          ],
          "pie": [
           {
            "automargin": true,
            "type": "pie"
           }
          ],
          "scatter": [
           {
            "fillpattern": {
             "fillmode": "overlay",
             "size": 10,
             "solidity": 0.2
            },
            "type": "scatter"
           }
          ],
          "scatter3d": [
           {
            "line": {
             "colorbar": {
              "outlinewidth": 1,
              "tickcolor": "rgb(36,36,36)",
              "ticks": "outside"
             }
            },
            "marker": {
             "colorbar": {
              "outlinewidth": 1,
              "tickcolor": "rgb(36,36,36)",
              "ticks": "outside"
             }
            },
            "type": "scatter3d"
           }
          ],
          "scattercarpet": [
           {
            "marker": {
             "colorbar": {
              "outlinewidth": 1,
              "tickcolor": "rgb(36,36,36)",
              "ticks": "outside"
             }
            },
            "type": "scattercarpet"
           }
          ],
          "scattergeo": [
           {
            "marker": {
             "colorbar": {
              "outlinewidth": 1,
              "tickcolor": "rgb(36,36,36)",
              "ticks": "outside"
             }
            },
            "type": "scattergeo"
           }
          ],
          "scattergl": [
           {
            "marker": {
             "colorbar": {
              "outlinewidth": 1,
              "tickcolor": "rgb(36,36,36)",
              "ticks": "outside"
             }
            },
            "type": "scattergl"
           }
          ],
          "scattermapbox": [
           {
            "marker": {
             "colorbar": {
              "outlinewidth": 1,
              "tickcolor": "rgb(36,36,36)",
              "ticks": "outside"
             }
            },
            "type": "scattermapbox"
           }
          ],
          "scatterpolar": [
           {
            "marker": {
             "colorbar": {
              "outlinewidth": 1,
              "tickcolor": "rgb(36,36,36)",
              "ticks": "outside"
             }
            },
            "type": "scatterpolar"
           }
          ],
          "scatterpolargl": [
           {
            "marker": {
             "colorbar": {
              "outlinewidth": 1,
              "tickcolor": "rgb(36,36,36)",
              "ticks": "outside"
             }
            },
            "type": "scatterpolargl"
           }
          ],
          "scatterternary": [
           {
            "marker": {
             "colorbar": {
              "outlinewidth": 1,
              "tickcolor": "rgb(36,36,36)",
              "ticks": "outside"
             }
            },
            "type": "scatterternary"
           }
          ],
          "surface": [
           {
            "colorbar": {
             "outlinewidth": 1,
             "tickcolor": "rgb(36,36,36)",
             "ticks": "outside"
            },
            "colorscale": [
             [
              0,
              "#440154"
             ],
             [
              0.1111111111111111,
              "#482878"
             ],
             [
              0.2222222222222222,
              "#3e4989"
             ],
             [
              0.3333333333333333,
              "#31688e"
             ],
             [
              0.4444444444444444,
              "#26828e"
             ],
             [
              0.5555555555555556,
              "#1f9e89"
             ],
             [
              0.6666666666666666,
              "#35b779"
             ],
             [
              0.7777777777777778,
              "#6ece58"
             ],
             [
              0.8888888888888888,
              "#b5de2b"
             ],
             [
              1,
              "#fde725"
             ]
            ],
            "type": "surface"
           }
          ],
          "table": [
           {
            "cells": {
             "fill": {
              "color": "rgb(237,237,237)"
             },
             "line": {
              "color": "white"
             }
            },
            "header": {
             "fill": {
              "color": "rgb(217,217,217)"
             },
             "line": {
              "color": "white"
             }
            },
            "type": "table"
           }
          ]
         },
         "layout": {
          "annotationdefaults": {
           "arrowhead": 0,
           "arrowwidth": 1
          },
          "autotypenumbers": "strict",
          "coloraxis": {
           "colorbar": {
            "outlinewidth": 1,
            "tickcolor": "rgb(36,36,36)",
            "ticks": "outside"
           }
          },
          "colorscale": {
           "diverging": [
            [
             0,
             "rgb(103,0,31)"
            ],
            [
             0.1,
             "rgb(178,24,43)"
            ],
            [
             0.2,
             "rgb(214,96,77)"
            ],
            [
             0.3,
             "rgb(244,165,130)"
            ],
            [
             0.4,
             "rgb(253,219,199)"
            ],
            [
             0.5,
             "rgb(247,247,247)"
            ],
            [
             0.6,
             "rgb(209,229,240)"
            ],
            [
             0.7,
             "rgb(146,197,222)"
            ],
            [
             0.8,
             "rgb(67,147,195)"
            ],
            [
             0.9,
             "rgb(33,102,172)"
            ],
            [
             1,
             "rgb(5,48,97)"
            ]
           ],
           "sequential": [
            [
             0,
             "#440154"
            ],
            [
             0.1111111111111111,
             "#482878"
            ],
            [
             0.2222222222222222,
             "#3e4989"
            ],
            [
             0.3333333333333333,
             "#31688e"
            ],
            [
             0.4444444444444444,
             "#26828e"
            ],
            [
             0.5555555555555556,
             "#1f9e89"
            ],
            [
             0.6666666666666666,
             "#35b779"
            ],
            [
             0.7777777777777778,
             "#6ece58"
            ],
            [
             0.8888888888888888,
             "#b5de2b"
            ],
            [
             1,
             "#fde725"
            ]
           ],
           "sequentialminus": [
            [
             0,
             "#440154"
            ],
            [
             0.1111111111111111,
             "#482878"
            ],
            [
             0.2222222222222222,
             "#3e4989"
            ],
            [
             0.3333333333333333,
             "#31688e"
            ],
            [
             0.4444444444444444,
             "#26828e"
            ],
            [
             0.5555555555555556,
             "#1f9e89"
            ],
            [
             0.6666666666666666,
             "#35b779"
            ],
            [
             0.7777777777777778,
             "#6ece58"
            ],
            [
             0.8888888888888888,
             "#b5de2b"
            ],
            [
             1,
             "#fde725"
            ]
           ]
          },
          "colorway": [
           "#1F77B4",
           "#FF7F0E",
           "#2CA02C",
           "#D62728",
           "#9467BD",
           "#8C564B",
           "#E377C2",
           "#7F7F7F",
           "#BCBD22",
           "#17BECF"
          ],
          "font": {
           "color": "rgb(36,36,36)"
          },
          "geo": {
           "bgcolor": "white",
           "lakecolor": "white",
           "landcolor": "white",
           "showlakes": true,
           "showland": true,
           "subunitcolor": "white"
          },
          "hoverlabel": {
           "align": "left"
          },
          "hovermode": "closest",
          "mapbox": {
           "style": "light"
          },
          "paper_bgcolor": "white",
          "plot_bgcolor": "white",
          "polar": {
           "angularaxis": {
            "gridcolor": "rgb(232,232,232)",
            "linecolor": "rgb(36,36,36)",
            "showgrid": false,
            "showline": true,
            "ticks": "outside"
           },
           "bgcolor": "white",
           "radialaxis": {
            "gridcolor": "rgb(232,232,232)",
            "linecolor": "rgb(36,36,36)",
            "showgrid": false,
            "showline": true,
            "ticks": "outside"
           }
          },
          "scene": {
           "xaxis": {
            "backgroundcolor": "white",
            "gridcolor": "rgb(232,232,232)",
            "gridwidth": 2,
            "linecolor": "rgb(36,36,36)",
            "showbackground": true,
            "showgrid": false,
            "showline": true,
            "ticks": "outside",
            "zeroline": false,
            "zerolinecolor": "rgb(36,36,36)"
           },
           "yaxis": {
            "backgroundcolor": "white",
            "gridcolor": "rgb(232,232,232)",
            "gridwidth": 2,
            "linecolor": "rgb(36,36,36)",
            "showbackground": true,
            "showgrid": false,
            "showline": true,
            "ticks": "outside",
            "zeroline": false,
            "zerolinecolor": "rgb(36,36,36)"
           },
           "zaxis": {
            "backgroundcolor": "white",
            "gridcolor": "rgb(232,232,232)",
            "gridwidth": 2,
            "linecolor": "rgb(36,36,36)",
            "showbackground": true,
            "showgrid": false,
            "showline": true,
            "ticks": "outside",
            "zeroline": false,
            "zerolinecolor": "rgb(36,36,36)"
           }
          },
          "shapedefaults": {
           "fillcolor": "black",
           "line": {
            "width": 0
           },
           "opacity": 0.3
          },
          "ternary": {
           "aaxis": {
            "gridcolor": "rgb(232,232,232)",
            "linecolor": "rgb(36,36,36)",
            "showgrid": false,
            "showline": true,
            "ticks": "outside"
           },
           "baxis": {
            "gridcolor": "rgb(232,232,232)",
            "linecolor": "rgb(36,36,36)",
            "showgrid": false,
            "showline": true,
            "ticks": "outside"
           },
           "bgcolor": "white",
           "caxis": {
            "gridcolor": "rgb(232,232,232)",
            "linecolor": "rgb(36,36,36)",
            "showgrid": false,
            "showline": true,
            "ticks": "outside"
           }
          },
          "title": {
           "x": 0.05
          },
          "xaxis": {
           "automargin": true,
           "gridcolor": "rgb(232,232,232)",
           "linecolor": "rgb(36,36,36)",
           "showgrid": false,
           "showline": true,
           "ticks": "outside",
           "title": {
            "standoff": 15
           },
           "zeroline": false,
           "zerolinecolor": "rgb(36,36,36)"
          },
          "yaxis": {
           "automargin": true,
           "gridcolor": "rgb(232,232,232)",
           "linecolor": "rgb(36,36,36)",
           "showgrid": false,
           "showline": true,
           "ticks": "outside",
           "title": {
            "standoff": 15
           },
           "zeroline": false,
           "zerolinecolor": "rgb(36,36,36)"
          }
         }
        },
        "title": {
         "text": ""
        },
        "width": 1200,
        "xaxis": {
         "showgrid": true,
         "tickangle": 45
        },
        "yaxis": {
         "showgrid": true,
         "title": {
          "text": "Frequency"
         }
        }
       }
      }
     },
     "metadata": {},
     "output_type": "display_data"
    }
   ],
   "source": [
    "# Topic activity over time\n",
    "import plotly.graph_objects as go\n",
    "\n",
    "# Create timestamps\n",
    "data['time'] = pd.to_datetime(data['time'])\n",
    "timestamps = data['time'].to_list()\n",
    "\n",
    "# Generate the topics over time\n",
    "topics_over_time = model.topics_over_time(docs, timestamps, nr_bins=20)\n",
    "\n",
    "# Filter out topic -1 containing outliers\n",
    "topics_over_time_filtered = topics_over_time[topics_over_time['Topic']  != -1]\n",
    "\n",
    "# Visualize the filtered topics over time\n",
    "fig = model.visualize_topics_over_time(topics_over_time_filtered)\n",
    "\n",
    "# Update legend to display only the topic number\n",
    "fig.data = sorted(fig.data, key=lambda trace: trace.name)\n",
    "\n",
    "for trace in fig.data:\n",
    "    trace.name = trace.name[0]\n",
    "\n",
    "# Update the layout\n",
    "fig.update_layout(\n",
    "    width=1200,\n",
    "    height=600,\n",
    "    title='',\n",
    "    legend_title_text='Topic',\n",
    "    xaxis_tickangle=45         # Set x-axis labels to 45-degree angle\n",
    ")\n",
    "\n",
    "# Show the figure\n",
    "fig.show()"
   ]
  },
  {
   "cell_type": "code",
   "execution_count": null,
   "metadata": {},
   "outputs": [],
   "source": []
  }
 ],
 "metadata": {
  "accelerator": "GPU",
  "colab": {
   "gpuType": "A100",
   "machine_shape": "hm",
   "provenance": []
  },
  "kernelspec": {
   "display_name": "BERTopic",
   "language": "python",
   "name": "python3"
  },
  "language_info": {
   "codemirror_mode": {
    "name": "ipython",
    "version": 3
   },
   "file_extension": ".py",
   "mimetype": "text/x-python",
   "name": "python",
   "nbconvert_exporter": "python",
   "pygments_lexer": "ipython3",
   "version": "3.11.10"
  }
 },
 "nbformat": 4,
 "nbformat_minor": 0
}
