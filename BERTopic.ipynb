{
 "cells": [
  {
   "cell_type": "code",
   "execution_count": null,
   "metadata": {
    "id": "jCqkRDlzOhGW"
   },
   "outputs": [],
   "source": [
    "from bertopic import BERTopic\n",
    "from umap import UMAP\n",
    "from sklearn.feature_extraction.text import CountVectorizer\n",
    "from nltk.corpus import stopwords\n",
    "import nltk\n",
    "from nltk import word_tokenize          \n",
    "from nltk.stem import WordNetLemmatizer\n",
    "import pandas as pd\n",
    "import re\n",
    "\n",
    "nltk.download('stopwords')"
   ]
  },
  {
   "cell_type": "code",
   "execution_count": 2,
   "metadata": {
    "id": "V7s-panZOhGX"
   },
   "outputs": [
    {
     "data": {
      "text/html": [
       "<div>\n",
       "<style scoped>\n",
       "    .dataframe tbody tr th:only-of-type {\n",
       "        vertical-align: middle;\n",
       "    }\n",
       "\n",
       "    .dataframe tbody tr th {\n",
       "        vertical-align: top;\n",
       "    }\n",
       "\n",
       "    .dataframe thead th {\n",
       "        text-align: right;\n",
       "    }\n",
       "</style>\n",
       "<table border=\"1\" class=\"dataframe\">\n",
       "  <thead>\n",
       "    <tr style=\"text-align: right;\">\n",
       "      <th></th>\n",
       "      <th>Review ID</th>\n",
       "      <th>time</th>\n",
       "      <th>Author Name</th>\n",
       "      <th>Author URL</th>\n",
       "      <th>Rating</th>\n",
       "      <th>Review Title</th>\n",
       "      <th>Review URL</th>\n",
       "      <th>text</th>\n",
       "      <th>Verified Purchase</th>\n",
       "      <th>clean_text</th>\n",
       "    </tr>\n",
       "  </thead>\n",
       "  <tbody>\n",
       "    <tr>\n",
       "      <th>0</th>\n",
       "      <td>R1KVDJU6Z60P5L</td>\n",
       "      <td>31/12/2020</td>\n",
       "      <td>The Martin‚Äôs</td>\n",
       "      <td>https://www.amazon.com/gp/profile/amzn1.accoun...</td>\n",
       "      <td>1</td>\n",
       "      <td>Horrible food for dogs and makes them super ga...</td>\n",
       "      <td>https://www.amazon.com/gp/customer-reviews/R1K...</td>\n",
       "      <td>My dog ate it a couple times got super sick. I...</td>\n",
       "      <td>False</td>\n",
       "      <td>eat couple time super sick thought transition ...</td>\n",
       "    </tr>\n",
       "    <tr>\n",
       "      <th>1</th>\n",
       "      <td>R3BDTTWQEA8WVO</td>\n",
       "      <td>31/12/2020</td>\n",
       "      <td>Judy</td>\n",
       "      <td>https://www.amazon.com/gp/profile/amzn1.accoun...</td>\n",
       "      <td>5</td>\n",
       "      <td>My dog loves this</td>\n",
       "      <td>https://www.amazon.com/gp/customer-reviews/R3B...</td>\n",
       "      <td>My dog likes it and it is highly recommended.</td>\n",
       "      <td>True</td>\n",
       "      <td>like highly recommend</td>\n",
       "    </tr>\n",
       "    <tr>\n",
       "      <th>2</th>\n",
       "      <td>R2HIKEFD35S0UD</td>\n",
       "      <td>31/12/2020</td>\n",
       "      <td>repete</td>\n",
       "      <td>https://www.amazon.com/gp/profile/amzn1.accoun...</td>\n",
       "      <td>5</td>\n",
       "      <td>Great dog food, tastes like chicken</td>\n",
       "      <td>https://www.amazon.com/gp/customer-reviews/R2H...</td>\n",
       "      <td>My dog has eaten this for years without issue....</td>\n",
       "      <td>True</td>\n",
       "      <td>eat year issue add water break treat heaven</td>\n",
       "    </tr>\n",
       "    <tr>\n",
       "      <th>3</th>\n",
       "      <td>R3CSCZS4YUDSIV</td>\n",
       "      <td>27/12/2020</td>\n",
       "      <td>Brian Moore</td>\n",
       "      <td>https://www.amazon.com/gp/profile/amzn1.accoun...</td>\n",
       "      <td>5</td>\n",
       "      <td>Great Dogfood and Service</td>\n",
       "      <td>https://www.amazon.com/gp/customer-reviews/R3C...</td>\n",
       "      <td>Food showed up at my door, no carrying it from...</td>\n",
       "      <td>True</td>\n",
       "      <td>food door carry store love it</td>\n",
       "    </tr>\n",
       "    <tr>\n",
       "      <th>4</th>\n",
       "      <td>R21TC1KPX49VUY</td>\n",
       "      <td>26/12/2020</td>\n",
       "      <td>Lindsay Good</td>\n",
       "      <td>https://www.amazon.com/gp/profile/amzn1.accoun...</td>\n",
       "      <td>5</td>\n",
       "      <td>My dog loves it!</td>\n",
       "      <td>https://www.amazon.com/gp/customer-reviews/R21...</td>\n",
       "      <td>My dog loves it! This is one of the few brands...</td>\n",
       "      <td>True</td>\n",
       "      <td>love it brand eat issue offer small bite get g...</td>\n",
       "    </tr>\n",
       "    <tr>\n",
       "      <th>...</th>\n",
       "      <td>...</td>\n",
       "      <td>...</td>\n",
       "      <td>...</td>\n",
       "      <td>...</td>\n",
       "      <td>...</td>\n",
       "      <td>...</td>\n",
       "      <td>...</td>\n",
       "      <td>...</td>\n",
       "      <td>...</td>\n",
       "      <td>...</td>\n",
       "    </tr>\n",
       "    <tr>\n",
       "      <th>3686</th>\n",
       "      <td>R1G1DJ6CUIN7V8</td>\n",
       "      <td>01/06/2016</td>\n",
       "      <td>LadyKathy</td>\n",
       "      <td>https://www.amazon.com/gp/profile/amzn1.accoun...</td>\n",
       "      <td>5</td>\n",
       "      <td>Good food for the price</td>\n",
       "      <td>https://www.amazon.com/gp/customer-reviews/R1G...</td>\n",
       "      <td>Good food for the price, and with auto shipmen...</td>\n",
       "      <td>True</td>\n",
       "      <td>good price auto shipment carry heavy bag store...</td>\n",
       "    </tr>\n",
       "    <tr>\n",
       "      <th>3687</th>\n",
       "      <td>R2TZ9YIF9TDCDE</td>\n",
       "      <td>01/05/2016</td>\n",
       "      <td>C. Crosley</td>\n",
       "      <td>https://www.amazon.com/gp/profile/amzn1.accoun...</td>\n",
       "      <td>5</td>\n",
       "      <td>I love their company</td>\n",
       "      <td>https://www.amazon.com/gp/customer-reviews/R2T...</td>\n",
       "      <td>Blue Buffalo has done it again. I love their c...</td>\n",
       "      <td>True</td>\n",
       "      <td>again love company productseverything allergic...</td>\n",
       "    </tr>\n",
       "    <tr>\n",
       "      <th>3688</th>\n",
       "      <td>R28WLUJG3QXETY</td>\n",
       "      <td>01/04/2016</td>\n",
       "      <td>ted smith</td>\n",
       "      <td>https://www.amazon.com/gp/profile/amzn1.accoun...</td>\n",
       "      <td>3</td>\n",
       "      <td>Three Stars</td>\n",
       "      <td>https://www.amazon.com/gp/customer-reviews/R28...</td>\n",
       "      <td>My dog eats the kibble but spits the life sour...</td>\n",
       "      <td>False</td>\n",
       "      <td>eat kibble spits life source bit floor</td>\n",
       "    </tr>\n",
       "    <tr>\n",
       "      <th>3689</th>\n",
       "      <td>R1XCS7H039UH5K</td>\n",
       "      <td>01/03/2016</td>\n",
       "      <td>Sherry P</td>\n",
       "      <td>https://www.amazon.com/gp/profile/amzn1.accoun...</td>\n",
       "      <td>4</td>\n",
       "      <td>All dogs seemed like they were starving by nwx...</td>\n",
       "      <td>https://www.amazon.com/gp/customer-reviews/R1X...</td>\n",
       "      <td>Dogs did well with it in regards to digestion....</td>\n",
       "      <td>True</td>\n",
       "      <td>dog digestion weimaraner lose bit weight tho i...</td>\n",
       "    </tr>\n",
       "    <tr>\n",
       "      <th>3690</th>\n",
       "      <td>R3VS6PAVQCSF55</td>\n",
       "      <td>01/02/2016</td>\n",
       "      <td>Karen</td>\n",
       "      <td>https://www.amazon.com/gp/profile/amzn1.accoun...</td>\n",
       "      <td>4</td>\n",
       "      <td>Good dog food, LifeSource Bits maybe not so tasty</td>\n",
       "      <td>https://www.amazon.com/gp/customer-reviews/R3V...</td>\n",
       "      <td>After my dog had a small cancer bump removed f...</td>\n",
       "      <td>True</td>\n",
       "      <td>small cancer bump remove belly year expensive ...</td>\n",
       "    </tr>\n",
       "  </tbody>\n",
       "</table>\n",
       "<p>3621 rows × 10 columns</p>\n",
       "</div>"
      ],
      "text/plain": [
       "           Review ID        time     Author Name  \\\n",
       "0     R1KVDJU6Z60P5L  31/12/2020  The Martin‚Äôs   \n",
       "1     R3BDTTWQEA8WVO  31/12/2020            Judy   \n",
       "2     R2HIKEFD35S0UD  31/12/2020          repete   \n",
       "3     R3CSCZS4YUDSIV  27/12/2020     Brian Moore   \n",
       "4     R21TC1KPX49VUY  26/12/2020    Lindsay Good   \n",
       "...              ...         ...             ...   \n",
       "3686  R1G1DJ6CUIN7V8  01/06/2016       LadyKathy   \n",
       "3687  R2TZ9YIF9TDCDE  01/05/2016      C. Crosley   \n",
       "3688  R28WLUJG3QXETY  01/04/2016       ted smith   \n",
       "3689  R1XCS7H039UH5K  01/03/2016        Sherry P   \n",
       "3690  R3VS6PAVQCSF55  01/02/2016           Karen   \n",
       "\n",
       "                                             Author URL  Rating  \\\n",
       "0     https://www.amazon.com/gp/profile/amzn1.accoun...       1   \n",
       "1     https://www.amazon.com/gp/profile/amzn1.accoun...       5   \n",
       "2     https://www.amazon.com/gp/profile/amzn1.accoun...       5   \n",
       "3     https://www.amazon.com/gp/profile/amzn1.accoun...       5   \n",
       "4     https://www.amazon.com/gp/profile/amzn1.accoun...       5   \n",
       "...                                                 ...     ...   \n",
       "3686  https://www.amazon.com/gp/profile/amzn1.accoun...       5   \n",
       "3687  https://www.amazon.com/gp/profile/amzn1.accoun...       5   \n",
       "3688  https://www.amazon.com/gp/profile/amzn1.accoun...       3   \n",
       "3689  https://www.amazon.com/gp/profile/amzn1.accoun...       4   \n",
       "3690  https://www.amazon.com/gp/profile/amzn1.accoun...       4   \n",
       "\n",
       "                                           Review Title  \\\n",
       "0     Horrible food for dogs and makes them super ga...   \n",
       "1                                     My dog loves this   \n",
       "2                   Great dog food, tastes like chicken   \n",
       "3                             Great Dogfood and Service   \n",
       "4                                      My dog loves it!   \n",
       "...                                                 ...   \n",
       "3686                            Good food for the price   \n",
       "3687                               I love their company   \n",
       "3688                                        Three Stars   \n",
       "3689  All dogs seemed like they were starving by nwx...   \n",
       "3690  Good dog food, LifeSource Bits maybe not so tasty   \n",
       "\n",
       "                                             Review URL  \\\n",
       "0     https://www.amazon.com/gp/customer-reviews/R1K...   \n",
       "1     https://www.amazon.com/gp/customer-reviews/R3B...   \n",
       "2     https://www.amazon.com/gp/customer-reviews/R2H...   \n",
       "3     https://www.amazon.com/gp/customer-reviews/R3C...   \n",
       "4     https://www.amazon.com/gp/customer-reviews/R21...   \n",
       "...                                                 ...   \n",
       "3686  https://www.amazon.com/gp/customer-reviews/R1G...   \n",
       "3687  https://www.amazon.com/gp/customer-reviews/R2T...   \n",
       "3688  https://www.amazon.com/gp/customer-reviews/R28...   \n",
       "3689  https://www.amazon.com/gp/customer-reviews/R1X...   \n",
       "3690  https://www.amazon.com/gp/customer-reviews/R3V...   \n",
       "\n",
       "                                                   text  Verified Purchase  \\\n",
       "0     My dog ate it a couple times got super sick. I...              False   \n",
       "1         My dog likes it and it is highly recommended.               True   \n",
       "2     My dog has eaten this for years without issue....               True   \n",
       "3     Food showed up at my door, no carrying it from...               True   \n",
       "4     My dog loves it! This is one of the few brands...               True   \n",
       "...                                                 ...                ...   \n",
       "3686  Good food for the price, and with auto shipmen...               True   \n",
       "3687  Blue Buffalo has done it again. I love their c...               True   \n",
       "3688  My dog eats the kibble but spits the life sour...              False   \n",
       "3689  Dogs did well with it in regards to digestion....               True   \n",
       "3690  After my dog had a small cancer bump removed f...               True   \n",
       "\n",
       "                                             clean_text  \n",
       "0     eat couple time super sick thought transition ...  \n",
       "1                                 like highly recommend  \n",
       "2           eat year issue add water break treat heaven  \n",
       "3                         food door carry store love it  \n",
       "4     love it brand eat issue offer small bite get g...  \n",
       "...                                                 ...  \n",
       "3686  good price auto shipment carry heavy bag store...  \n",
       "3687  again love company productseverything allergic...  \n",
       "3688             eat kibble spits life source bit floor  \n",
       "3689  dog digestion weimaraner lose bit weight tho i...  \n",
       "3690  small cancer bump remove belly year expensive ...  \n",
       "\n",
       "[3621 rows x 10 columns]"
      ]
     },
     "execution_count": 2,
     "metadata": {},
     "output_type": "execute_result"
    }
   ],
   "source": [
    "data = pd.read_excel('amazon_dog_food_reviews_FASTopic_BERTopic.xlsx')\n",
    "data = data.dropna()\n",
    "data"
   ]
  },
  {
   "cell_type": "code",
   "execution_count": null,
   "metadata": {},
   "outputs": [],
   "source": [
    "# create a list of speeches\n",
    "docs = data['text'].tolist()"
   ]
  },
  {
   "cell_type": "code",
   "execution_count": 5,
   "metadata": {},
   "outputs": [],
   "source": [
    "# extended list of English stopwords\n",
    "\n",
    "stopwords_extended = [\n",
    "\"0o\", \"0s\", \"3a\", \"3b\", \"3d\", \"6b\", \"6o\", \"a\", \"a1\", \"a2\", \"a3\", \"a4\", \"ab\", \"able\", \"about\",\n",
    " \"above\", \"abst\", \"ac\", \"accordance\", \"according\", \"accordingly\", \"across\", \"act\", \"actually\",\n",
    " \"ad\", \"added\", \"adj\", \"ae\", \"af\", \"affected\", \"affecting\", \"affects\", \"after\", \"afterwards\",\n",
    " \"ag\", \"again\", \"against\", \"ah\", \"ain\", \"ain't\", \"aj\", \"al\", \"all\", \"allow\", \"allows\", \"almost\",\n",
    " \"alone\", \"along\", \"already\", \"also\", \"although\", \"always\", \"am\", \"among\", \"amongst\", \"amoungst\",\n",
    " \"amount\", \"an\", \"and\", \"announce\", \"another\", \"any\", \"anybody\", \"anyhow\", \"anymore\", \"anyone\",\n",
    " \"anything\", \"anyway\", \"anyways\", \"anywhere\", \"ao\", \"ap\", \"apart\", \"apparently\", \"appear\",\n",
    " \"appreciate\", \"appropriate\", \"approximately\", \"ar\", \"are\", \"aren\", \"arent\", \"aren't\",\n",
    " \"arise\", \"around\", \"as\", \"a's\", \"aside\", \"ask\", \"asking\", \"associated\", \"at\", \"au\",\n",
    " \"auth\", \"av\", \"available\", \"aw\", \"away\", \"awfully\", \"ax\", \"ay\", \"az\", \"b\", \"b1\",\n",
    " \"b2\", \"b3\", \"ba\", \"back\", \"bc\", \"bd\", \"be\", \"became\", \"because\", \"become\", \"becomes\",\n",
    " \"becoming\", \"been\", \"before\", \"beforehand\", \"begin\", \"beginning\", \"beginnings\", \"begins\",\n",
    " \"behind\", \"being\", \"believe\", \"below\", \"beside\", \"besides\", \"best\", \"better\", \"between\",\n",
    " \"beyond\", \"bi\", \"bill\", \"biol\", \"bj\", \"bk\", \"bl\", \"bn\", \"both\", \"bottom\", \"bp\", \"br\",\n",
    " \"brief\", \"briefly\", \"bs\", \"bt\", \"bu\", \"but\", \"bx\", \"by\", \"c\", \"c1\", \"c2\", \"c3\", \"ca\",\n",
    " \"call\", \"came\", \"can\", \"cannot\", \"cant\", \"can't\", \"cause\", \"causes\", \"cc\", \"cd\", \"ce\",\n",
    " \"certain\", \"certainly\", \"cf\", \"cg\", \"ch\", \"changes\", \"ci\", \"cit\", \"cj\", \"cl\", \"clearly\",\n",
    " \"cm\", \"c'mon\", \"cn\", \"co\", \"com\", \"come\", \"comes\", \"con\", \"concerning\", \"consequently\",\n",
    " \"consider\", \"considering\", \"contain\", \"containing\", \"contains\", \"corresponding\",\n",
    " \"could\", \"couldn\", \"couldnt\", \"couldn't\", \"course\", \"cp\", \"cq\", \"cr\", \"cry\", \"cs\", \"c's\",\n",
    " \"ct\", \"cu\", \"currently\", \"cv\", \"cx\", \"cy\", \"cz\", \"d\", \"d2\", \"da\", \"date\", \"dc\", \"dd\", \"de\",\n",
    " \"definitely\", \"describe\", \"described\", \"despite\", \"detail\", \"df\", \"di\", \"did\", \"didn\", \"didn't\",\n",
    " \"different\", \"dj\", \"dk\", \"dl\", \"do\", \"does\", \"doesn\", \"doesn't\", \"doing\", \"don\", \"done\", \"don't\",\n",
    " \"down\", \"downwards\", \"dp\", \"dr\", \"ds\", \"dt\", \"du\", \"due\", \"during\", \"dx\", \"dy\", \"e\", \"e2\", \"e3\",\n",
    " \"ea\", \"each\", \"ec\", \"ed\", \"edu\", \"ee\", \"ef\", \"effect\", \"eg\", \"ei\", \"eight\", \"eighty\", \"either\",\n",
    " \"ej\", \"el\", \"eleven\", \"else\", \"elsewhere\", \"em\", \"empty\", \"en\", \"end\", \"ending\", \"enough\",\n",
    " \"entirely\", \"eo\", \"ep\", \"eq\", \"er\", \"es\", \"especially\", \"est\", \"et\", \"et-al\", \"etc\", \"eu\",\n",
    " \"ev\", \"even\", \"ever\", \"every\", \"everybody\", \"everyone\", \"everything\", \"everywhere\", \"ex\",\n",
    " \"exactly\", \"example\", \"except\", \"ey\", \"f\", \"f2\", \"fa\", \"far\", \"fc\", \"few\", \"ff\", \"fi\",\n",
    " \"fifteen\", \"fifth\", \"fify\", \"fill\", \"find\", \"fire\", \"first\", \"five\", \"fix\", \"fj\", \"fl\",\n",
    " \"fn\", \"fo\", \"followed\", \"following\", \"follows\", \"for\", \"former\", \"formerly\", \"forth\",\n",
    " \"forty\", \"found\", \"four\", \"fr\", \"from\", \"front\", \"fs\", \"ft\", \"fu\", \"full\", \"further\",\n",
    " \"furthermore\", \"fy\", \"g\", \"ga\", \"gave\", \"ge\", \"get\", \"gets\", \"getting\", \"gi\", \"give\",\n",
    " \"given\", \"gives\", \"giving\", \"gj\", \"gl\", \"go\", \"goes\", \"going\", \"gone\", \"got\", \"gotten\",\n",
    " \"gr\", \"greetings\", \"gs\", \"gy\", \"h\", \"h2\", \"h3\", \"had\", \"hadn\", \"hadn't\", \"happens\", \"hardly\",\n",
    " \"has\", \"hasn\", \"hasnt\", \"hasn't\", \"have\", \"haven\", \"haven't\", \"having\", \"he\", \"hed\", \"he'd\",\n",
    " \"he'll\", \"hello\", \"help\", \"hence\", \"her\", \"here\", \"hereafter\", \"hereby\", \"herein\", \"heres\",\n",
    " \"here's\", \"hereupon\", \"hers\", \"herself\", \"hes\", \"he's\", \"hh\", \"hi\", \"hid\", \"him\", \"himself\",\n",
    " \"his\", \"hither\", \"hj\", \"ho\", \"home\", \"hopefully\", \"how\", \"howbeit\", \"however\", \"how's\", \"hr\",\n",
    " \"hs\", \"http\", \"hu\", \"hundred\", \"hy\", \"i\", \"i2\", \"i3\", \"i4\", \"i6\", \"i7\", \"i8\", \"ia\", \"ib\", \"ibid\",\n",
    " \"ic\", \"id\", \"i'd\", \"ie\", \"if\", \"ig\", \"ignored\", \"ih\", \"ii\", \"ij\", \"il\", \"i'll\", \"im\", \"i'm\",\n",
    " \"immediate\", \"immediately\", \"importance\", \"important\", \"in\", \"inasmuch\", \"inc\", \"indeed\",\n",
    " \"index\", \"indicate\", \"indicated\", \"indicates\", \"information\", \"inner\", \"insofar\", \"instead\",\n",
    " \"interest\", \"into\", \"invention\", \"inward\", \"io\", \"ip\", \"iq\", \"ir\", \"is\", \"isn\", \"isn't\", \"it\",\n",
    " \"itd\", \"it'd\", \"it'll\", \"its\", \"it's\", \"itself\", \"iv\", \"i've\", \"ix\", \"iy\", \"iz\", \"j\", \"jj\",\n",
    " \"jr\", \"js\", \"jt\", \"ju\", \"just\", \"k\", \"ke\", \"keep\", \"keeps\", \"kept\", \"kg\", \"kj\", \"km\", \"know\",\n",
    " \"known\", \"knows\", \"ko\", \"l\", \"l2\", \"la\", \"largely\", \"last\", \"lately\", \"later\", \"latter\",\n",
    " \"latterly\", \"lb\", \"lc\", \"le\", \"least\", \"les\", \"less\", \"lest\", \"let\", \"lets\", \"let's\",\n",
    " \"lf\", \"like\", \"liked\", \"likely\", \"line\", \"little\", \"lj\", \"ll\", \"ll\", \"ln\", \"lo\", \"look\",\n",
    " \"looking\", \"looks\", \"los\", \"lr\", \"ls\", \"lt\", \"ltd\", \"m\", \"m2\", \"ma\", \"made\", \"mainly\",\n",
    " \"make\", \"makes\", \"many\", \"may\", \"maybe\", \"me\", \"mean\", \"means\", \"meantime\", \"meanwhile\",\n",
    " \"merely\", \"mg\", \"might\", \"mightn\", \"mightn't\", \"mill\", \"million\", \"mine\", \"miss\", \"ml\",\n",
    " \"mn\", \"mo\", \"more\", \"moreover\", \"most\", \"mostly\", \"move\", \"mr\", \"mrs\", \"ms\", \"mt\", \"mu\",\n",
    " \"much\", \"mug\", \"must\", \"mustn\", \"mustn't\", \"my\", \"myself\", \"n\", \"n2\", \"na\", \"name\", \"namely\",\n",
    " \"nay\", \"nc\", \"nd\", \"ne\", \"near\", \"nearly\", \"necessarily\", \"necessary\", \"need\", \"needn\",\n",
    " \"needn't\", \"needs\", \"neither\", \"never\", \"nevertheless\", \"new\", \"next\", \"ng\", \"ni\", \"nine\",\n",
    " \"ninety\", \"nj\", \"nl\", \"nn\", \"no\", \"nobody\", \"non\", \"none\", \"nonetheless\", \"noone\", \"nor\",\n",
    " \"normally\", \"nos\", \"not\", \"noted\", \"nothing\", \"novel\", \"now\", \"nowhere\", \"nr\", \"ns\", \"nt\",\n",
    " \"ny\", \"o\", \"oa\", \"ob\", \"obtain\", \"obtained\", \"obviously\", \"oc\", \"od\", \"of\", \"off\", \"often\",\n",
    " \"og\", \"oh\", \"oi\", \"oj\", \"ok\", \"okay\", \"ol\", \"old\", \"om\", \"omitted\", \"on\", \"once\", \"one\",\n",
    " \"ones\", \"only\", \"onto\", \"oo\", \"op\", \"oq\", \"or\", \"ord\", \"os\", \"ot\", \"other\", \"others\",\n",
    " \"otherwise\", \"ou\", \"ought\", \"our\", \"ours\", \"ourselves\", \"out\", \"outside\", \"over\",\n",
    " \"overall\", \"ow\", \"owing\", \"own\", \"ox\", \"oz\", \"p\", \"p1\", \"p2\", \"p3\", \"page\", \"pagecount\",\n",
    " \"pages\", \"par\", \"part\", \"particular\", \"particularly\", \"pas\", \"past\", \"pc\", \"pd\", \"pe\", \"per\",\n",
    " \"perhaps\", \"pf\", \"ph\", \"pi\", \"pj\", \"pk\", \"pl\", \"placed\", \"please\", \"plus\", \"pm\", \"pn\", \"po\",\n",
    " \"poorly\", \"possible\", \"possibly\", \"potentially\", \"pp\", \"pq\", \"pr\", \"predominantly\", \"present\",\n",
    " \"presumably\", \"previously\", \"primarily\", \"probably\", \"promptly\", \"proud\", \"provides\", \"ps\", \"pt\",\n",
    " \"pu\", \"put\", \"py\", \"q\", \"qj\", \"qu\", \"que\", \"quickly\", \"quite\", \"qv\", \"r\", \"r2\", \"ra\", \"ran\",\n",
    " \"rather\", \"rc\", \"rd\", \"re\", \"readily\", \"really\", \"reasonably\", \"recent\", \"recently\", \"ref\",\n",
    " \"refs\", \"regarding\", \"regardless\", \"regards\", \"related\", \"relatively\", \"research\", \"research-articl\",\n",
    " \"respectively\", \"resulted\", \"resulting\", \"results\", \"rf\", \"rh\", \"ri\", \"right\", \"rj\", \"rl\", \"rm\", \"rn\",\n",
    " \"ro\", \"rq\", \"rr\", \"rs\", \"rt\", \"ru\", \"run\", \"rv\", \"ry\", \"s\", \"s2\", \"sa\", \"said\", \"same\", \"saw\", \"say\",\n",
    " \"saying\", \"says\", \"sc\", \"sd\", \"se\", \"sec\", \"second\", \"secondly\", \"section\", \"see\", \"seeing\", \"seem\",\n",
    " \"seemed\", \"seeming\", \"seems\", \"seen\", \"self\", \"selves\", \"sensible\", \"sent\", \"serious\", \"seriously\",\n",
    " \"seven\", \"several\", \"sf\", \"shall\", \"shan\", \"shan't\", \"she\", \"shed\", \"she'd\", \"she'll\", \"shes\", \"she's\",\n",
    " \"should\", \"shouldn\", \"shouldn't\", \"should've\", \"show\", \"showed\", \"shown\", \"showns\", \"shows\", \"si\", \"side\",\n",
    " \"significant\", \"significantly\", \"similar\", \"similarly\", \"since\", \"sincere\", \"six\", \"sixty\", \"sj\", \"sl\",\n",
    " \"slightly\", \"sm\", \"sn\", \"so\", \"some\", \"somebody\", \"somehow\", \"someone\", \"somethan\", \"something\",\n",
    " \"sometime\", \"sometimes\", \"somewhat\", \"somewhere\", \"soon\", \"sorry\", \"sp\", \"specifically\",\n",
    " \"specified\", \"specify\", \"specifying\", \"sq\", \"sr\", \"ss\", \"st\", \"still\", \"stop\", \"strongly\",\n",
    " \"sub\", \"substantially\", \"successfully\", \"such\", \"sufficiently\", \"suggest\", \"sup\", \"sure\",\n",
    " \"sy\", \"system\", \"sz\", \"t\", \"t1\", \"t2\", \"t3\", \"take\", \"taken\", \"taking\", \"tb\", \"tc\", \"td\",\n",
    " \"te\", \"tell\", \"ten\", \"tends\", \"tf\", \"th\", \"than\", \"thank\", \"thanks\", \"thanx\", \"that\",\n",
    " \"that'll\", \"thats\", \"that's\", \"that've\", \"the\", \"their\", \"theirs\", \"them\", \"themselves\",\n",
    " \"then\", \"thence\", \"there\", \"thereafter\", \"thereby\", \"thered\", \"therefore\", \"therein\",\n",
    " \"there'll\", \"thereof\", \"therere\", \"theres\", \"there's\", \"thereto\", \"thereupon\", \"there've\",\n",
    " \"these\", \"they\", \"theyd\", \"they'd\", \"they'll\", \"theyre\", \"they're\", \"they've\", \"thickv\",\n",
    " \"thin\", \"think\", \"third\", \"this\", \"thorough\", \"thoroughly\", \"those\", \"thou\", \"though\",\n",
    " \"thoughh\", \"thousand\", \"three\", \"throug\", \"through\", \"throughout\", \"thru\", \"thus\",\n",
    " \"ti\", \"til\", \"tip\", \"tj\", \"tl\", \"tm\", \"tn\", \"to\", \"together\", \"too\", \"took\", \"top\",\n",
    " \"toward\", \"towards\", \"tp\", \"tq\", \"tr\", \"tried\", \"tries\", \"truly\", \"try\", \"trying\",\n",
    " \"ts\", \"t's\", \"tt\", \"tv\", \"twelve\", \"twenty\", \"twice\", \"two\", \"tx\", \"u\", \"u201d\",\n",
    " \"ue\", \"ui\", \"uj\", \"uk\", \"um\", \"un\", \"under\", \"unfortunately\", \"unless\", \"unlike\",\n",
    " \"unlikely\", \"until\", \"unto\", \"uo\", \"up\", \"upon\", \"ups\", \"ur\", \"us\", \"use\", \"used\",\n",
    " \"useful\", \"usefully\", \"usefulness\", \"uses\", \"using\", \"usually\", \"ut\", \"v\", \"va\",\n",
    " \"value\", \"various\", \"vd\", \"ve\", \"ve\", \"very\", \"via\", \"viz\", \"vj\", \"vo\", \"vol\",\n",
    " \"vols\", \"volumtype\", \"vq\", \"vs\", \"vt\", \"vu\", \"w\", \"wa\", \"want\", \"wants\", \"was\",\n",
    " \"wasn\", \"wasnt\", \"wasn't\", \"way\", \"we\", \"wed\", \"we'd\", \"welcome\", \"well\", \"we'll\",\n",
    " \"well-b\", \"went\", \"were\", \"we're\", \"weren\", \"werent\", \"weren't\", \"we've\", \"what\",\n",
    " \"whatever\", \"what'll\", \"whats\", \"what's\", \"when\", \"whence\", \"whenever\", \"when's\",\n",
    " \"where\", \"whereafter\", \"whereas\", \"whereby\", \"wherein\", \"wheres\", \"where's\", \"whereupon\",\n",
    " \"wherever\", \"whether\", \"which\", \"while\", \"whim\", \"whither\", \"who\", \"whod\", \"whoever\",\n",
    " \"whole\", \"who'll\", \"whom\", \"whomever\", \"whos\", \"who's\", \"whose\", \"why\", \"why's\", \"wi\",\n",
    " \"widely\", \"will\", \"willing\", \"wish\", \"with\", \"within\", \"without\", \"wo\", \"won\", \"wonder\",\n",
    " \"wont\", \"won't\", \"words\", \"world\", \"would\", \"wouldn\", \"wouldnt\", \"wouldn't\", \"www\",\n",
    " \"x\", \"x1\", \"x2\", \"x3\", \"xf\", \"xi\", \"xj\", \"xk\", \"xl\", \"xn\", \"xo\", \"xs\", \"xt\", \"xv\",\n",
    " \"xx\", \"y\", \"y2\", \"yes\", \"yet\", \"yj\", \"yl\", \"you\", \"youd\", \"you'd\", \"you'll\", \"your\",\n",
    " \"youre\", \"you're\", \"yours\", \"yourself\", \"yourselves\", \"you've\", \"yr\", \"ys\", \"yt\",\n",
    " \"z\", \"zero\", \"zi\", \"zz\"]"
   ]
  },
  {
   "cell_type": "code",
   "execution_count": 6,
   "metadata": {
    "colab": {
     "base_uri": "https://localhost:8080/"
    },
    "id": "O9uAukTLOhGX",
    "outputId": "89cd5e37-920e-47f3-d576-97d87efa7ee6"
   },
   "outputs": [],
   "source": [
    "# create stopwords list\n",
    "standard_stopwords = list(stopwords.words('english'))\n",
    "\n",
    "# additiona tokens to remove\n",
    "additional_stopwords = ['blue','buffalo','dog','food','ha','month','ago'] \n",
    "\n",
    "# combine standard, extended stopwords, and additional tokens\n",
    "full_stopwords = standard_stopwords + additional_stopwords + stopwords_extended\n",
    "\n",
    "# define tokenizer retrurning lemmatized text without numbers\n",
    "class LemmaTokenizer:\n",
    "    def __init__(self):\n",
    "        self.wnl = WordNetLemmatizer()\n",
    "    def __call__(self, doc):\n",
    "        doc = re.sub(r'\\d+', '', doc)  # clean numbers\n",
    "        return [self.wnl.lemmatize(t) for t in word_tokenize(doc)] # lemmatize\n",
    "\n",
    "# vectorizer makes data processing and generates bigrams\n",
    "vectorizer_model = CountVectorizer(tokenizer=LemmaTokenizer(),\n",
    "                                  ngram_range=(2, 2),\n",
    "                                  stop_words=full_stopwords)\n",
    "\n",
    "# set-up model\n",
    "model = BERTopic(n_gram_range=(2,2), # returns bigrams\n",
    "                nr_topics=9,         # generate 9 topics, leave -1 for outliers\n",
    "                top_n_words=20,      # return top 20 bigrams\n",
    "                min_topic_size=20,   # each topic contains at least 20 tokens\n",
    "                vectorizer_model=vectorizer_model,\n",
    "                umap_model = UMAP(random_state=1))  # setting seed topics reproduce\n",
    "\n",
    "# fit model to data\n",
    "topics, probabilities = model.fit_transform(docs)"
   ]
  },
  {
   "cell_type": "code",
   "execution_count": 7,
   "metadata": {},
   "outputs": [
    {
     "data": {
      "text/html": [
       "<div>\n",
       "<style scoped>\n",
       "    .dataframe tbody tr th:only-of-type {\n",
       "        vertical-align: middle;\n",
       "    }\n",
       "\n",
       "    .dataframe tbody tr th {\n",
       "        vertical-align: top;\n",
       "    }\n",
       "\n",
       "    .dataframe thead th {\n",
       "        text-align: right;\n",
       "    }\n",
       "</style>\n",
       "<table border=\"1\" class=\"dataframe\">\n",
       "  <thead>\n",
       "    <tr style=\"text-align: right;\">\n",
       "      <th></th>\n",
       "      <th>Topic</th>\n",
       "      <th>Count</th>\n",
       "      <th>Name</th>\n",
       "      <th>Representation</th>\n",
       "      <th>Representative_Docs</th>\n",
       "    </tr>\n",
       "  </thead>\n",
       "  <tbody>\n",
       "    <tr>\n",
       "      <th>0</th>\n",
       "      <td>-1</td>\n",
       "      <td>1172</td>\n",
       "      <td>-1_brown rice_grain free_pet store_chicken brown</td>\n",
       "      <td>[brown rice, grain free, pet store, chicken br...</td>\n",
       "      <td>[If it's in the budget doggie gets a decent br...</td>\n",
       "    </tr>\n",
       "    <tr>\n",
       "      <th>1</th>\n",
       "      <td>0</td>\n",
       "      <td>852</td>\n",
       "      <td>0_picky eater_absolutely love_love great_sensi...</td>\n",
       "      <td>[picky eater, absolutely love, love great, sen...</td>\n",
       "      <td>[My sheltie always is a picky eater, but I tho...</td>\n",
       "    </tr>\n",
       "    <tr>\n",
       "      <th>2</th>\n",
       "      <td>1</td>\n",
       "      <td>553</td>\n",
       "      <td>1_love love_love good_love great_love stuff</td>\n",
       "      <td>[love love, love good, love great, love stuff,...</td>\n",
       "      <td>[My dogs love this stuff!, My dog loves this s...</td>\n",
       "    </tr>\n",
       "    <tr>\n",
       "      <th>3</th>\n",
       "      <td>2</td>\n",
       "      <td>432</td>\n",
       "      <td>2_life protection_bag amazon_pet store_read re...</td>\n",
       "      <td>[life protection, bag amazon, pet store, read ...</td>\n",
       "      <td>[Our dog almost died due to some kind of intox...</td>\n",
       "    </tr>\n",
       "    <tr>\n",
       "      <th>4</th>\n",
       "      <td>3</td>\n",
       "      <td>261</td>\n",
       "      <td>3_great product_good price_great price_product...</td>\n",
       "      <td>[great product, good price, great price, produ...</td>\n",
       "      <td>[Great product, Great product., Great product ...</td>\n",
       "    </tr>\n",
       "    <tr>\n",
       "      <th>5</th>\n",
       "      <td>4</td>\n",
       "      <td>257</td>\n",
       "      <td>4_bag ripped_box bag_inside box_hole bag</td>\n",
       "      <td>[bag ripped, box bag, inside box, hole bag, op...</td>\n",
       "      <td>[Bag was ripped food everywhere, the bag came ...</td>\n",
       "    </tr>\n",
       "    <tr>\n",
       "      <th>6</th>\n",
       "      <td>5</td>\n",
       "      <td>48</td>\n",
       "      <td>5_great great_great excellent_excellent great_...</td>\n",
       "      <td>[great great, great excellent, excellent great...</td>\n",
       "      <td>[Great, Great, Great!!!]</td>\n",
       "    </tr>\n",
       "    <tr>\n",
       "      <th>7</th>\n",
       "      <td>6</td>\n",
       "      <td>25</td>\n",
       "      <td>6_ama esta_esta comida_aburrian otras_pero esta</td>\n",
       "      <td>[ama esta, esta comida, aburrian otras, pero e...</td>\n",
       "      <td>[Mi perrito ama esta comida, Fue una compra pa...</td>\n",
       "    </tr>\n",
       "    <tr>\n",
       "      <th>8</th>\n",
       "      <td>7</td>\n",
       "      <td>21</td>\n",
       "      <td>7_small bite_small breed_bite easier_adult small</td>\n",
       "      <td>[small bite, small breed, bite easier, adult s...</td>\n",
       "      <td>[My dog loves it so I love it too.  The small ...</td>\n",
       "    </tr>\n",
       "  </tbody>\n",
       "</table>\n",
       "</div>"
      ],
      "text/plain": [
       "   Topic  Count                                               Name  \\\n",
       "0     -1   1172   -1_brown rice_grain free_pet store_chicken brown   \n",
       "1      0    852  0_picky eater_absolutely love_love great_sensi...   \n",
       "2      1    553        1_love love_love good_love great_love stuff   \n",
       "3      2    432  2_life protection_bag amazon_pet store_read re...   \n",
       "4      3    261  3_great product_good price_great price_product...   \n",
       "5      4    257           4_bag ripped_box bag_inside box_hole bag   \n",
       "6      5     48  5_great great_great excellent_excellent great_...   \n",
       "7      6     25    6_ama esta_esta comida_aburrian otras_pero esta   \n",
       "8      7     21   7_small bite_small breed_bite easier_adult small   \n",
       "\n",
       "                                      Representation  \\\n",
       "0  [brown rice, grain free, pet store, chicken br...   \n",
       "1  [picky eater, absolutely love, love great, sen...   \n",
       "2  [love love, love good, love great, love stuff,...   \n",
       "3  [life protection, bag amazon, pet store, read ...   \n",
       "4  [great product, good price, great price, produ...   \n",
       "5  [bag ripped, box bag, inside box, hole bag, op...   \n",
       "6  [great great, great excellent, excellent great...   \n",
       "7  [ama esta, esta comida, aburrian otras, pero e...   \n",
       "8  [small bite, small breed, bite easier, adult s...   \n",
       "\n",
       "                                 Representative_Docs  \n",
       "0  [If it's in the budget doggie gets a decent br...  \n",
       "1  [My sheltie always is a picky eater, but I tho...  \n",
       "2  [My dogs love this stuff!, My dog loves this s...  \n",
       "3  [Our dog almost died due to some kind of intox...  \n",
       "4  [Great product, Great product., Great product ...  \n",
       "5  [Bag was ripped food everywhere, the bag came ...  \n",
       "6                           [Great, Great, Great!!!]  \n",
       "7  [Mi perrito ama esta comida, Fue una compra pa...  \n",
       "8  [My dog loves it so I love it too.  The small ...  "
      ]
     },
     "execution_count": 7,
     "metadata": {},
     "output_type": "execute_result"
    }
   ],
   "source": [
    "model.get_topic_info()"
   ]
  },
  {
   "cell_type": "code",
   "execution_count": 8,
   "metadata": {},
   "outputs": [
    {
     "data": {
      "text/html": [
       "<div>\n",
       "<style scoped>\n",
       "    .dataframe tbody tr th:only-of-type {\n",
       "        vertical-align: middle;\n",
       "    }\n",
       "\n",
       "    .dataframe tbody tr th {\n",
       "        vertical-align: top;\n",
       "    }\n",
       "\n",
       "    .dataframe thead th {\n",
       "        text-align: right;\n",
       "    }\n",
       "</style>\n",
       "<table border=\"1\" class=\"dataframe\">\n",
       "  <thead>\n",
       "    <tr style=\"text-align: right;\">\n",
       "      <th></th>\n",
       "      <th>Topic_0_word</th>\n",
       "      <th>Topic_1_word</th>\n",
       "      <th>Topic_2_word</th>\n",
       "      <th>Topic_3_word</th>\n",
       "      <th>Topic_4_word</th>\n",
       "      <th>Topic_5_word</th>\n",
       "      <th>Topic_6_word</th>\n",
       "      <th>Topic_7_word</th>\n",
       "    </tr>\n",
       "  </thead>\n",
       "  <tbody>\n",
       "    <tr>\n",
       "      <th>0</th>\n",
       "      <td>picky eater</td>\n",
       "      <td>love love</td>\n",
       "      <td>life protection</td>\n",
       "      <td>great product</td>\n",
       "      <td>bag ripped</td>\n",
       "      <td>great great</td>\n",
       "      <td>ama esta</td>\n",
       "      <td>small bite</td>\n",
       "    </tr>\n",
       "    <tr>\n",
       "      <th>1</th>\n",
       "      <td>absolutely love</td>\n",
       "      <td>love good</td>\n",
       "      <td>bag amazon</td>\n",
       "      <td>good price</td>\n",
       "      <td>box bag</td>\n",
       "      <td>great excellent</td>\n",
       "      <td>esta comida</td>\n",
       "      <td>small breed</td>\n",
       "    </tr>\n",
       "    <tr>\n",
       "      <th>2</th>\n",
       "      <td>love great</td>\n",
       "      <td>love great</td>\n",
       "      <td>pet store</td>\n",
       "      <td>great price</td>\n",
       "      <td>inside box</td>\n",
       "      <td>excellent great</td>\n",
       "      <td>aburrian otras</td>\n",
       "      <td>bite easier</td>\n",
       "    </tr>\n",
       "    <tr>\n",
       "      <th>3</th>\n",
       "      <td>sensitive stomach</td>\n",
       "      <td>love stuff</td>\n",
       "      <td>read review</td>\n",
       "      <td>product great</td>\n",
       "      <td>hole bag</td>\n",
       "      <td>nice great</td>\n",
       "      <td>pero esta</td>\n",
       "      <td>adult small</td>\n",
       "    </tr>\n",
       "    <tr>\n",
       "      <th>4</th>\n",
       "      <td>love picky</td>\n",
       "      <td>product love</td>\n",
       "      <td>healthy weight</td>\n",
       "      <td>good product</td>\n",
       "      <td>opened box</td>\n",
       "      <td>great nice</td>\n",
       "      <td>seca aburrian</td>\n",
       "      <td>love small</td>\n",
       "    </tr>\n",
       "    <tr>\n",
       "      <th>5</th>\n",
       "      <td>great price</td>\n",
       "      <td>love product</td>\n",
       "      <td>protection formula</td>\n",
       "      <td>fast delivery</td>\n",
       "      <td>bag hole</td>\n",
       "      <td>excellent woof</td>\n",
       "      <td>perrito ama</td>\n",
       "      <td>great small</td>\n",
       "    </tr>\n",
       "    <tr>\n",
       "      <th>6</th>\n",
       "      <td>picky love</td>\n",
       "      <td>great product</td>\n",
       "      <td>bought bag</td>\n",
       "      <td>buy great</td>\n",
       "      <td>ripped open</td>\n",
       "      <td>woof nice</td>\n",
       "      <td>tiene mi</td>\n",
       "      <td>bite small</td>\n",
       "    </tr>\n",
       "    <tr>\n",
       "      <th>7</th>\n",
       "      <td>love love</td>\n",
       "      <td>love healthy</td>\n",
       "      <td>year love</td>\n",
       "      <td>price great</td>\n",
       "      <td>bag bag</td>\n",
       "      <td>awesome woof</td>\n",
       "      <td>perra tiene</td>\n",
       "      <td>breed older</td>\n",
       "    </tr>\n",
       "    <tr>\n",
       "      <th>8</th>\n",
       "      <td>class action</td>\n",
       "      <td>pup love</td>\n",
       "      <td>reading review</td>\n",
       "      <td>product good</td>\n",
       "      <td>bag box</td>\n",
       "      <td>awesome awesome</td>\n",
       "      <td>toda necesidades</td>\n",
       "      <td>smaller bite</td>\n",
       "    </tr>\n",
       "    <tr>\n",
       "      <th>9</th>\n",
       "      <td>delivered door</td>\n",
       "      <td>love brand</td>\n",
       "      <td>buying year</td>\n",
       "      <td>excellent product</td>\n",
       "      <td>bag opened</td>\n",
       "      <td>great fine</td>\n",
       "      <td>traga bien</td>\n",
       "      <td>size bite</td>\n",
       "    </tr>\n",
       "    <tr>\n",
       "      <th>10</th>\n",
       "      <td>subscribe save</td>\n",
       "      <td>love coat</td>\n",
       "      <td>quality ingredient</td>\n",
       "      <td>quick delivery</td>\n",
       "      <td>bag open</td>\n",
       "      <td>great fantastic</td>\n",
       "      <td>ty quality</td>\n",
       "      <td>bite hard</td>\n",
       "    </tr>\n",
       "    <tr>\n",
       "      <th>11</th>\n",
       "      <td>great love</td>\n",
       "      <td>coat shiny</td>\n",
       "      <td>science diet</td>\n",
       "      <td>quality good</td>\n",
       "      <td>shipping box</td>\n",
       "      <td>fine lol</td>\n",
       "      <td>una compra</td>\n",
       "      <td>work great</td>\n",
       "    </tr>\n",
       "    <tr>\n",
       "      <th>12</th>\n",
       "      <td>love flavor</td>\n",
       "      <td>stuff love</td>\n",
       "      <td>purchased bag</td>\n",
       "      <td>expensive expensive</td>\n",
       "      <td>big bag</td>\n",
       "      <td>lol great</td>\n",
       "      <td>una pastor</td>\n",
       "      <td>pit bull</td>\n",
       "    </tr>\n",
       "    <tr>\n",
       "      <th>13</th>\n",
       "      <td>stomach issue</td>\n",
       "      <td>love happy</td>\n",
       "      <td>review amazon</td>\n",
       "      <td>love product</td>\n",
       "      <td>time bag</td>\n",
       "      <td>woof great</td>\n",
       "      <td>perritos encanto</td>\n",
       "      <td>healthy satisfaction</td>\n",
       "    </tr>\n",
       "    <tr>\n",
       "      <th>14</th>\n",
       "      <td>price great</td>\n",
       "      <td>love loved</td>\n",
       "      <td>time day</td>\n",
       "      <td>delivery great</td>\n",
       "      <td>received bag</td>\n",
       "      <td>fantastic awesome</td>\n",
       "      <td>mi madre</td>\n",
       "      <td>good size</td>\n",
       "    </tr>\n",
       "    <tr>\n",
       "      <th>15</th>\n",
       "      <td>good quality</td>\n",
       "      <td>pet store</td>\n",
       "      <td>brown rice</td>\n",
       "      <td>price product</td>\n",
       "      <td>open bag</td>\n",
       "      <td>great awesome</td>\n",
       "      <td>mi mascota</td>\n",
       "      <td>store locally</td>\n",
       "    </tr>\n",
       "    <tr>\n",
       "      <th>16</th>\n",
       "      <td>healthy weight</td>\n",
       "      <td>healthy love</td>\n",
       "      <td>high quality</td>\n",
       "      <td>delivery good</td>\n",
       "      <td>good bag</td>\n",
       "      <td>great good</td>\n",
       "      <td>perfect yum</td>\n",
       "      <td>solution wheat</td>\n",
       "    </tr>\n",
       "    <tr>\n",
       "      <th>17</th>\n",
       "      <td>pet store</td>\n",
       "      <td>great price</td>\n",
       "      <td>great product</td>\n",
       "      <td>product buy</td>\n",
       "      <td>huge hole</td>\n",
       "      <td>good great</td>\n",
       "      <td>mi perrito</td>\n",
       "      <td>switched small</td>\n",
       "    </tr>\n",
       "    <tr>\n",
       "      <th>18</th>\n",
       "      <td>love cheaper</td>\n",
       "      <td>happy happy</td>\n",
       "      <td>delivered door</td>\n",
       "      <td>delivered door</td>\n",
       "      <td>spilled box</td>\n",
       "      <td></td>\n",
       "      <td>perfect perfect</td>\n",
       "      <td>fussiness total</td>\n",
       "    </tr>\n",
       "    <tr>\n",
       "      <th>19</th>\n",
       "      <td>love good</td>\n",
       "      <td>love pup</td>\n",
       "      <td>vet told</td>\n",
       "      <td>arrived time</td>\n",
       "      <td>bag arrived</td>\n",
       "      <td></td>\n",
       "      <td>pastor aleman</td>\n",
       "      <td>yorkie upset</td>\n",
       "    </tr>\n",
       "  </tbody>\n",
       "</table>\n",
       "</div>"
      ],
      "text/plain": [
       "         Topic_0_word   Topic_1_word        Topic_2_word         Topic_3_word  \\\n",
       "0         picky eater      love love     life protection        great product   \n",
       "1     absolutely love      love good          bag amazon           good price   \n",
       "2          love great     love great           pet store          great price   \n",
       "3   sensitive stomach     love stuff         read review        product great   \n",
       "4          love picky   product love      healthy weight         good product   \n",
       "5         great price   love product  protection formula        fast delivery   \n",
       "6          picky love  great product          bought bag            buy great   \n",
       "7           love love   love healthy           year love          price great   \n",
       "8        class action       pup love      reading review         product good   \n",
       "9      delivered door     love brand         buying year    excellent product   \n",
       "10     subscribe save      love coat  quality ingredient       quick delivery   \n",
       "11         great love     coat shiny        science diet         quality good   \n",
       "12        love flavor     stuff love       purchased bag  expensive expensive   \n",
       "13      stomach issue     love happy       review amazon         love product   \n",
       "14        price great     love loved            time day       delivery great   \n",
       "15       good quality      pet store          brown rice        price product   \n",
       "16     healthy weight   healthy love        high quality        delivery good   \n",
       "17          pet store    great price       great product          product buy   \n",
       "18       love cheaper    happy happy      delivered door       delivered door   \n",
       "19          love good       love pup            vet told         arrived time   \n",
       "\n",
       "    Topic_4_word       Topic_5_word      Topic_6_word          Topic_7_word  \n",
       "0     bag ripped        great great          ama esta            small bite  \n",
       "1        box bag    great excellent       esta comida           small breed  \n",
       "2     inside box    excellent great    aburrian otras           bite easier  \n",
       "3       hole bag         nice great         pero esta           adult small  \n",
       "4     opened box         great nice     seca aburrian            love small  \n",
       "5       bag hole     excellent woof       perrito ama           great small  \n",
       "6    ripped open          woof nice          tiene mi            bite small  \n",
       "7        bag bag       awesome woof       perra tiene           breed older  \n",
       "8        bag box    awesome awesome  toda necesidades          smaller bite  \n",
       "9     bag opened         great fine        traga bien             size bite  \n",
       "10      bag open    great fantastic        ty quality             bite hard  \n",
       "11  shipping box           fine lol        una compra            work great  \n",
       "12       big bag          lol great        una pastor              pit bull  \n",
       "13      time bag         woof great  perritos encanto  healthy satisfaction  \n",
       "14  received bag  fantastic awesome          mi madre             good size  \n",
       "15      open bag      great awesome        mi mascota         store locally  \n",
       "16      good bag         great good       perfect yum        solution wheat  \n",
       "17     huge hole         good great        mi perrito        switched small  \n",
       "18   spilled box                      perfect perfect       fussiness total  \n",
       "19   bag arrived                        pastor aleman          yorkie upset  "
      ]
     },
     "execution_count": 8,
     "metadata": {},
     "output_type": "execute_result"
    }
   ],
   "source": [
    "# Create dataframe with bigrams sorted by probabilities\n",
    "import pandas as pd\n",
    "\n",
    "# Retrieve the bigrams for each topic and select only the word columns\n",
    "topic_0 = pd.DataFrame(model.get_topic(0), columns=[\"Topic_0_word\", \"Topic_0_prob\"])[[\"Topic_0_word\"]]\n",
    "topic_1 = pd.DataFrame(model.get_topic(1), columns=[\"Topic_1_word\", \"Topic_1_prob\"])[[\"Topic_1_word\"]]\n",
    "topic_2 = pd.DataFrame(model.get_topic(2), columns=[\"Topic_2_word\", \"Topic_2_prob\"])[[\"Topic_2_word\"]]\n",
    "topic_3 = pd.DataFrame(model.get_topic(3), columns=[\"Topic_3_word\", \"Topic_3_prob\"])[[\"Topic_3_word\"]]\n",
    "topic_4 = pd.DataFrame(model.get_topic(4), columns=[\"Topic_4_word\", \"Topic_4_prob\"])[[\"Topic_4_word\"]]\n",
    "topic_5 = pd.DataFrame(model.get_topic(5), columns=[\"Topic_5_word\", \"Topic_5_prob\"])[[\"Topic_5_word\"]]\n",
    "topic_6 = pd.DataFrame(model.get_topic(6), columns=[\"Topic_6_word\", \"Topic_6_prob\"])[[\"Topic_6_word\"]]\n",
    "topic_7 = pd.DataFrame(model.get_topic(7), columns=[\"Topic_7_word\", \"Topic_7_prob\"])[[\"Topic_7_word\"]]\n",
    "\n",
    "# # # Concatenate the DataFrames\n",
    "topics_df = pd.concat([topic_0, topic_1, topic_2, topic_3, topic_4, topic_5, topic_6,topic_7], axis=1)\n",
    "topics_df"
   ]
  },
  {
   "cell_type": "code",
   "execution_count": 9,
   "metadata": {},
   "outputs": [],
   "source": [
    "topics_df.to_excel('bigrams_bertopic_8_top20.xlsx', index=False)"
   ]
  },
  {
   "cell_type": "code",
   "execution_count": 10,
   "metadata": {},
   "outputs": [
    {
     "data": {
      "application/vnd.plotly.v1+json": {
       "config": {
        "plotlyServerURL": "https://plot.ly"
       },
       "data": [
        {
         "hoverinfo": "text",
         "hovertext": [
          "<b>Topic 0</b><br>Words: love picky, picky eater, absolutely love, delivered door, good quality",
          "<b>Topic 0</b><br>Words: love great, great price, price local, boston terrier, time eat",
          "<b>Topic 0</b><br>Words: licking foot, delivered door, love great, skin issue, pet store",
          "<b>Topic 0</b><br>Words: picky eater, product check, prime eat, trust verify, rating advisor",
          "<b>Topic 0</b><br>Words: double butt, door love, upset stomach, delivered door, retriever allergy",
          "<b>Topic 0</b><br>Words: customer service, absolutely love, problem resolved, major pet, vet digest",
          "<b>Topic 0</b><br>Words: level arsenic, contained lead, high level, good price, great price",
          "<b>Topic 0</b><br>Words: picky eater, corn wheat, eat great, love brand, pet store",
          "<b>Topic 0</b><br>Words: monday today, today friday, gain weight, love picky, ear feeling",
          "<b>Topic 0</b><br>Words: picky eater, lead poisoning, oor french, hadnt normal, supplier time",
          "<b>Topic 0</b><br>Words: hot spot, love eating, couple year, love healthy, love good",
          "<b>Topic 0</b><br>Words: grain free, chicken base, poop time, stomach love, absolutely love",
          "<b>Topic 0</b><br>Words: picky eater, eats puppy, subscribe save, love great, good product",
          "<b>Topic 0</b><br>Words: dry great, good nutritional, guess flavor, flavor good, eating brand",
          "<b>Topic 0</b><br>Words: started diarrhea, morning evening, small kibble, flavor love, lose weight",
          "<b>Topic 0</b><br>Words: eat poop, taste great, vet recommended, science diet, love love",
          "<b>Topic 0</b><br>Words: fur baby, bad breath, day stool, dont risk, increase price",
          "<b>Topic 0</b><br>Words: absolutely love, picky eater, collie sit, hide bag, water cheese",
          "<b>Topic 0</b><br>Words: facing class, kill extremely, company responsible, death facing, responsible death",
          "<b>Topic 0</b><br>Words: ingredient quality, picky eater, diarrhea eating, smell chicken, allergy kind"
         ],
         "marker": {
          "color": "#E69F00"
         },
         "mode": "lines",
         "name": "0",
         "type": "scatter",
         "x": [
          "2015-12-31T04:12:00",
          "2016-04-02T06:00:00",
          "2016-07-02T12:00:00",
          "2016-10-01T18:00:00",
          "2017-01-01T00:00:00",
          "2017-04-02T06:00:00",
          "2017-07-02T12:00:00",
          "2017-10-01T18:00:00",
          "2018-01-01T00:00:00",
          "2018-04-02T06:00:00",
          "2018-07-02T12:00:00",
          "2018-10-01T18:00:00",
          "2019-01-01T00:00:00",
          "2019-04-02T06:00:00",
          "2019-07-02T12:00:00",
          "2019-10-01T18:00:00",
          "2020-01-01T00:00:00",
          "2020-04-01T06:00:00",
          "2020-07-01T12:00:00",
          "2020-09-30T18:00:00"
         ],
         "y": [
          44,
          44,
          40,
          36,
          34,
          40,
          38,
          36,
          37,
          39,
          41,
          39,
          42,
          53,
          46,
          49,
          57,
          43,
          51,
          43
         ]
        },
        {
         "hoverinfo": "text",
         "hovertext": [
          "<b>Topic 1</b><br>Words: love love, love product, love great, happy happy, great product",
          "<b>Topic 1</b><br>Words: love love, coat love, cheaper pet, love healthy, love brand",
          "<b>Topic 1</b><br>Words: love love, love great, love stuff, love coat, price quick",
          "<b>Topic 1</b><br>Words: product good, love great, love love, store helped, number time",
          "<b>Topic 1</b><br>Words: love love, product love, love good, good product, love product",
          "<b>Topic 1</b><br>Words: love love, love coat, coat nice, product love, great product",
          "<b>Topic 1</b><br>Words: love love, normal bad, macro dept, petnet app, walking normal",
          "<b>Topic 1</b><br>Words: love love, gas lol, product chi, mastiff eating, keeshond love",
          "<b>Topic 1</b><br>Words: love love, coat love, loved price, blend coat, brand recommended",
          "<b>Topic 1</b><br>Words: love love, trip pet, pup love, win win, great product",
          "<b>Topic 1</b><br>Words: love love, love great, fur baby, love good, love stuff",
          "<b>Topic 1</b><br>Words: love love, havent enjoy, cancer reiterate, peel paint, smelly people",
          "<b>Topic 1</b><br>Words: love good, love love, love happy, love product, product energy",
          "<b>Topic 1</b><br>Words: love love, love coat, program huge, product chipper, older fur",
          "<b>Topic 1</b><br>Words: love loved, pup love, love great, love love, great love",
          "<b>Topic 1</b><br>Words: love gobble, love love, pup love, love healthy, love great",
          "<b>Topic 1</b><br>Words: love love, price love, love great, love product, love brand",
          "<b>Topic 1</b><br>Words: continue choose, commodity choice, canfind shze, chichi chihuahua, good commodity",
          "<b>Topic 1</b><br>Words: great dane, love stuff, good quality, simple delivered, dane lived",
          "<b>Topic 1</b><br>Words: good coat, price good, love expected, lab hate, love lab"
         ],
         "marker": {
          "color": "#56B4E9"
         },
         "mode": "lines",
         "name": "1",
         "type": "scatter",
         "x": [
          "2015-12-31T04:12:00",
          "2016-04-02T06:00:00",
          "2016-07-02T12:00:00",
          "2016-10-01T18:00:00",
          "2017-01-01T00:00:00",
          "2017-04-02T06:00:00",
          "2017-07-02T12:00:00",
          "2017-10-01T18:00:00",
          "2018-01-01T00:00:00",
          "2018-04-02T06:00:00",
          "2018-07-02T12:00:00",
          "2018-10-01T18:00:00",
          "2019-01-01T00:00:00",
          "2019-04-02T06:00:00",
          "2019-07-02T12:00:00",
          "2019-10-01T18:00:00",
          "2020-01-01T00:00:00",
          "2020-04-01T06:00:00",
          "2020-07-01T12:00:00",
          "2020-09-30T18:00:00"
         ],
         "y": [
          39,
          31,
          44,
          18,
          34,
          26,
          19,
          13,
          22,
          27,
          29,
          23,
          27,
          25,
          29,
          41,
          39,
          16,
          27,
          24
         ]
        },
        {
         "hoverinfo": "text",
         "hovertext": [
          "<b>Topic 2</b><br>Words: tear stain, freddy seizer, havent love, time switch, issue decided",
          "<b>Topic 2</b><br>Words: corgi mix, diabetes love, weve feeding, time day, shiba inu",
          "<b>Topic 2</b><br>Words: pound bag, egg yoke, purchasing brand, rice egg, online brand",
          "<b>Topic 2</b><br>Words: great product, senior citizen, chewing paw, healthy weight, life protection",
          "<b>Topic 2</b><br>Words: acute pancreatitis, straight liquid, hour hour, brown ball, free shipping",
          "<b>Topic 2</b><br>Words: vet feeding, purchasing year, order amazon, core fine, omega liver",
          "<b>Topic 2</b><br>Words: runny poop, rice boiled, product feeding, boiled chicken, issue time",
          "<b>Topic 2</b><br>Words: life protection, switched diamond, eating habit, diamond natural, picky eater",
          "<b>Topic 2</b><br>Words: suggested feeding, feeding instruction, noticed difference, ordering amazon, taste wild",
          "<b>Topic 2</b><br>Words: started bloody, grain allergy, amazon email, fed puppy, bloody loose",
          "<b>Topic 2</b><br>Words: amazon subscribe, issue vet, brand flavor, subscribe save, pet store",
          "<b>Topic 2</b><br>Words: started feeding, eating life, life year, purchased bag, diarrhea vomiting",
          "<b>Topic 2</b><br>Words: lamb rice, pet store, bag target, struvite crystal, stool vomiting",
          "<b>Topic 2</b><br>Words: didnt didnt, read review, bag bought, basset doubt, day stomach",
          "<b>Topic 2</b><br>Words: vomiting diarrhea, bag amazon, save dollar, issue quality, great health",
          "<b>Topic 2</b><br>Words: read review, terrible terrible, siberian husky, year siberian, bladder stone",
          "<b>Topic 2</b><br>Words: real meat, fur baby, absolutely disgusted, life protection, joint pain",
          "<b>Topic 2</b><br>Words: review amazon, understand product, life protection, write review, week started",
          "<b>Topic 2</b><br>Words: bag amazon, vet told, company sold, simply afford, weve noticed",
          "<b>Topic 2</b><br>Words: protein diet, protection formula, high protein, life protection, jo jo"
         ],
         "marker": {
          "color": "#009E73"
         },
         "mode": "lines",
         "name": "2",
         "type": "scatter",
         "x": [
          "2015-12-31T04:12:00",
          "2016-04-02T06:00:00",
          "2016-07-02T12:00:00",
          "2016-10-01T18:00:00",
          "2017-01-01T00:00:00",
          "2017-04-02T06:00:00",
          "2017-07-02T12:00:00",
          "2017-10-01T18:00:00",
          "2018-01-01T00:00:00",
          "2018-04-02T06:00:00",
          "2018-07-02T12:00:00",
          "2018-10-01T18:00:00",
          "2019-01-01T00:00:00",
          "2019-04-02T06:00:00",
          "2019-07-02T12:00:00",
          "2019-10-01T18:00:00",
          "2020-01-01T00:00:00",
          "2020-04-01T06:00:00",
          "2020-07-01T12:00:00",
          "2020-09-30T18:00:00"
         ],
         "y": [
          30,
          22,
          24,
          23,
          21,
          13,
          18,
          20,
          24,
          14,
          15,
          22,
          27,
          22,
          21,
          30,
          22,
          19,
          29,
          16
         ]
        },
        {
         "hoverinfo": "text",
         "hovertext": [
          "<b>Topic 3</b><br>Words: product great, great product, good product, delivery intact, buyfalse advertisment",
          "<b>Topic 3</b><br>Words: great product, delivery price, fast delivery, product great, love product",
          "<b>Topic 3</b><br>Words: great price, great product, quality great, product price, price good",
          "<b>Topic 3</b><br>Words: great product, product great, good price, price great, great price",
          "<b>Topic 3</b><br>Words: great product, good price, saving saving, great price, heavy bag",
          "<b>Topic 3</b><br>Words: great product, product great, good price, delivery super, difference good",
          "<b>Topic 3</b><br>Words: great product, product good, quality arrived, priced delivered, product quick",
          "<b>Topic 3</b><br>Words: great product, fast delivery, good price, product great, lot cheaper",
          "<b>Topic 3</b><br>Words: arrived time, great product, excellent buy, deal excellent, happy item",
          "<b>Topic 3</b><br>Words: good price, expected timely, timely fashion, convenient good, item perfectly",
          "<b>Topic 3</b><br>Words: compared carbon, expect listing, listing good, valued subscription, footprint created",
          "<b>Topic 3</b><br>Words: product great, great product, great price, stuff convenient, perfect good",
          "<b>Topic 3</b><br>Words: expensive expensive, good price, lift arrive, bought wrong, easily lift",
          "<b>Topic 3</b><br>Words: great product, product great, youi received, macie great, time macie",
          "<b>Topic 3</b><br>Words: win win, result work, service work, subscription convenience, work win",
          "<b>Topic 3</b><br>Words: price convenient, thankyou order, doe promised, travel store, needed recommend",
          "<b>Topic 3</b><br>Words: great price, great product, today earn, expensive great, extra product",
          "<b>Topic 3</b><br>Words: good pick, speedy delivery, ilike convenience, order expect, time early",
          "<b>Topic 3</b><br>Words: good price, price quality, great price, great product, product great",
          "<b>Topic 3</b><br>Words: price good, good price, price increased, return recall, disappointed price"
         ],
         "marker": {
          "color": "#F0E442"
         },
         "mode": "lines",
         "name": "3",
         "type": "scatter",
         "x": [
          "2015-12-31T04:12:00",
          "2016-04-02T06:00:00",
          "2016-07-02T12:00:00",
          "2016-10-01T18:00:00",
          "2017-01-01T00:00:00",
          "2017-04-02T06:00:00",
          "2017-07-02T12:00:00",
          "2017-10-01T18:00:00",
          "2018-01-01T00:00:00",
          "2018-04-02T06:00:00",
          "2018-07-02T12:00:00",
          "2018-10-01T18:00:00",
          "2019-01-01T00:00:00",
          "2019-04-02T06:00:00",
          "2019-07-02T12:00:00",
          "2019-10-01T18:00:00",
          "2020-01-01T00:00:00",
          "2020-04-01T06:00:00",
          "2020-07-01T12:00:00",
          "2020-09-30T18:00:00"
         ],
         "y": [
          20,
          17,
          21,
          17,
          19,
          17,
          9,
          11,
          11,
          13,
          11,
          7,
          12,
          13,
          8,
          9,
          10,
          10,
          14,
          12
         ]
        },
        {
         "hoverinfo": "text",
         "hovertext": [
          "<b>Topic 4</b><br>Words: container love, fully intact, brand major, prior reviewer, reviewer bag",
          "<b>Topic 4</b><br>Words: return product, bad return, store dame, roughly tear, finally eats",
          "<b>Topic 4</b><br>Words: meant returned, bag mouse, awful received, damaged received, hole mouse",
          "<b>Topic 4</b><br>Words: dont beg, whatsoever doe, pitbull enjoy, place container, staring wondering",
          "<b>Topic 4</b><br>Words: box bag, fact riley, poo recommend, riley yogi, coincidental beagle",
          "<b>Topic 4</b><br>Words: mold growing, large hole, condition ate, paid suppose, doe purina",
          "<b>Topic 4</b><br>Words: ordered bag, year eating, eating year, bad batch, bag ripped",
          "<b>Topic 4</b><br>Words: box good, opening box, inside box, spilled box, hole bag",
          "<b>Topic 4</b><br>Words: bag ripped, bag spilling, inside box, ripped open, huge hole",
          "<b>Topic 4</b><br>Words: opened box, bag ripped, box bag, inside box, hole bag",
          "<b>Topic 4</b><br>Words: box bag, opened box, bag ripped, bag hole, bag box",
          "<b>Topic 4</b><br>Words: bag ripped, box bag, inside box, open box, bag hole",
          "<b>Topic 4</b><br>Words: big bag, sick eating, hole bag, local pet, threw box",
          "<b>Topic 4</b><br>Words: bag ripped, box size, ripped open, bag bag, hole bag",
          "<b>Topic 4</b><br>Words: bag coffee, crawling inside, ant crawling, inside box, hole bag",
          "<b>Topic 4</b><br>Words: bag ripped, opened box, horrible smell, box bag, inside box",
          "<b>Topic 4</b><br>Words: shipping box, ripped open, bag ripped, box bag, hole bag",
          "<b>Topic 4</b><br>Words: cup pound, bag cup, pound bag, box kleenex, box box",
          "<b>Topic 4</b><br>Words: hole bag, order today, opened box, huge hole, bag box",
          "<b>Topic 4</b><br>Words: box bag, bb dry, bag open, good bag, smaller bag"
         ],
         "marker": {
          "color": "#D55E00"
         },
         "mode": "lines",
         "name": "4",
         "type": "scatter",
         "x": [
          "2015-12-31T04:12:00",
          "2016-04-02T06:00:00",
          "2016-07-02T12:00:00",
          "2016-10-01T18:00:00",
          "2017-01-01T00:00:00",
          "2017-04-02T06:00:00",
          "2017-07-02T12:00:00",
          "2017-10-01T18:00:00",
          "2018-01-01T00:00:00",
          "2018-04-02T06:00:00",
          "2018-07-02T12:00:00",
          "2018-10-01T18:00:00",
          "2019-01-01T00:00:00",
          "2019-04-02T06:00:00",
          "2019-07-02T12:00:00",
          "2019-10-01T18:00:00",
          "2020-01-01T00:00:00",
          "2020-04-01T06:00:00",
          "2020-07-01T12:00:00",
          "2020-09-30T18:00:00"
         ],
         "y": [
          1,
          7,
          5,
          4,
          7,
          9,
          11,
          11,
          13,
          21,
          36,
          25,
          15,
          10,
          13,
          17,
          15,
          13,
          12,
          12
         ]
        },
        {
         "hoverinfo": "text",
         "hovertext": [
          "<b>Topic 5</b><br>Words: great fantastic, fantastic awesome, great great, excellent great, great excellent",
          "<b>Topic 5</b><br>Words: excellent great, great awesome, great great, great excellent, nice great",
          "<b>Topic 5</b><br>Words: great great, great excellent, excellent great, nice great, great nice",
          "<b>Topic 5</b><br>Words: great great, excellent great, great excellent, nice great, great nice",
          "<b>Topic 5</b><br>Words: great great, great excellent, excellent great, nice great, great nice",
          "<b>Topic 5</b><br>Words: great great, great excellent, excellent great, nice great, great nice",
          "<b>Topic 5</b><br>Words: great great, great excellent, excellent great, nice great, great nice",
          "<b>Topic 5</b><br>Words: great excellent, great great, excellent great, nice great, great nice",
          "<b>Topic 5</b><br>Words: great great, great excellent, excellent great, nice great, great nice",
          "<b>Topic 5</b><br>Words: great excellent, great great, excellent great, nice great, great nice",
          "<b>Topic 5</b><br>Words: great great, great excellent, excellent great, nice great, great nice",
          "<b>Topic 5</b><br>Words: great great, great excellent, excellent great, nice great, great nice",
          "<b>Topic 5</b><br>Words: great great, great excellent, excellent great, nice great, great nice",
          "<b>Topic 5</b><br>Words: fine great, great good, great great, good great, excellent great",
          "<b>Topic 5</b><br>Words: great great, nice great, great nice, great excellent, excellent great",
          "<b>Topic 5</b><br>Words: great great, great excellent, excellent great, nice great, great nice",
          "<b>Topic 5</b><br>Words: great great, excellent great, great excellent, nice great, great nice",
          "<b>Topic 5</b><br>Words: great great, great excellent, excellent great, nice great, great nice",
          "<b>Topic 5</b><br>Words: great great, great excellent, excellent great, nice great, great nice"
         ],
         "marker": {
          "color": "#0072B2"
         },
         "mode": "lines",
         "name": "5",
         "type": "scatter",
         "x": [
          "2015-12-31T04:12:00",
          "2016-04-02T06:00:00",
          "2016-07-02T12:00:00",
          "2016-10-01T18:00:00",
          "2017-01-01T00:00:00",
          "2017-04-02T06:00:00",
          "2017-07-02T12:00:00",
          "2017-10-01T18:00:00",
          "2018-01-01T00:00:00",
          "2018-04-02T06:00:00",
          "2018-07-02T12:00:00",
          "2018-10-01T18:00:00",
          "2019-01-01T00:00:00",
          "2019-04-02T06:00:00",
          "2019-07-02T12:00:00",
          "2019-10-01T18:00:00",
          "2020-01-01T00:00:00",
          "2020-04-01T06:00:00",
          "2020-09-30T18:00:00"
         ],
         "y": [
          3,
          4,
          2,
          3,
          2,
          2,
          2,
          2,
          1,
          2,
          2,
          1,
          3,
          5,
          5,
          4,
          3,
          1,
          1
         ]
        },
        {
         "hoverinfo": "text",
         "hovertext": [
          "<b>Topic 6</b><br>Words: perfect yum, ama esta, esta comida, yeayaright diahrea, aleman traga",
          "<b>Topic 6</b><br>Words: ama esta, esta comida, yeayaright diahrea, aleman traga, buena bueno",
          "<b>Topic 6</b><br>Words: ama esta, esta comida, yeayaright diahrea, aleman traga, buena bueno",
          "<b>Topic 6</b><br>Words: convenient great, ama esta, esta comida, encanto muy, buena bueno",
          "<b>Topic 6</b><br>Words: fue una, sabor estas, pastor aleman, compra para, encanta sabor",
          "<b>Topic 6</b><br>Words: diahrea nk, ama esta, esta comida, esenciales necesita, buena bueno",
          "<b>Topic 6</b><br>Words: ama esta, esta comida, yeayaright diahrea, aleman traga, buena bueno",
          "<b>Topic 6</b><br>Words: quality ingredient, ama esta, esta comida, yeayaright diahrea, mascota ama",
          "<b>Topic 6</b><br>Words: esta comida, ama esta, meses feliz, mi mascota, tiene toda",
          "<b>Topic 6</b><br>Words: mi perritos, buen alimento, muchas gracias, perritos encanto, alimento muchas",
          "<b>Topic 6</b><br>Words: perrito ama, mi perrito, ama esta, esta comida, mascota ama",
          "<b>Topic 6</b><br>Words: ama esta, esta comida, yeayaright diahrea, aleman traga, buena bueno"
         ],
         "marker": {
          "color": "#CC79A7"
         },
         "mode": "lines",
         "name": "6",
         "type": "scatter",
         "x": [
          "2016-07-02T12:00:00",
          "2018-01-01T00:00:00",
          "2018-07-02T12:00:00",
          "2018-10-01T18:00:00",
          "2019-01-01T00:00:00",
          "2019-04-02T06:00:00",
          "2019-07-02T12:00:00",
          "2019-10-01T18:00:00",
          "2020-01-01T00:00:00",
          "2020-04-01T06:00:00",
          "2020-07-01T12:00:00",
          "2020-09-30T18:00:00"
         ],
         "y": [
          2,
          1,
          1,
          1,
          1,
          2,
          3,
          3,
          7,
          2,
          1,
          1
         ]
        },
        {
         "hoverinfo": "text",
         "hovertext": [
          "<b>Topic 7</b><br>Words: bite small, perfect size, size bite, small bite, small breed",
          "<b>Topic 7</b><br>Words: disappointed smaller, bite piece, smaller bite, piece eat, eat product",
          "<b>Topic 7</b><br>Words: small bite, bite easier, breed older, terrier small, brand pricey",
          "<b>Topic 7</b><br>Words: small breed, male tooapparently, teeth perfect, missing teeth, switched small",
          "<b>Topic 7</b><br>Words: easy order, order door, bite amazon, nice easy, amazon nice",
          "<b>Topic 7</b><br>Words: small bite, digestible border, easily digestible, dalmatian sensitive, collie chicken",
          "<b>Topic 7</b><br>Words: small bite, easier small, bite work, bite easier, small eat",
          "<b>Topic 7</b><br>Words: corgi love, bite option, option great, love small, small bite",
          "<b>Topic 7</b><br>Words: bite hard, good size, older bite, break tooth, thought break",
          "<b>Topic 7</b><br>Words: older guy, love fussiness, healthy satisfaction, rescue baby, satisfaction smaller",
          "<b>Topic 7</b><br>Words: small bite, adult small, small breed, bite small, buy adult",
          "<b>Topic 7</b><br>Words: bite easier, kibble needed, deciding working, people recommended, easier chew",
          "<b>Topic 7</b><br>Words: small bite, small breed, yorkie upset, tummyis difference, ray foodso",
          "<b>Topic 7</b><br>Words: kibble work, great small, small breed, love small, small kibble",
          "<b>Topic 7</b><br>Words: didnt complain, bull didnt, work pit, pit bull, small bite"
         ],
         "marker": {
          "color": "#E69F00"
         },
         "mode": "lines",
         "name": "7",
         "type": "scatter",
         "x": [
          "2015-12-31T04:12:00",
          "2016-04-02T06:00:00",
          "2016-07-02T12:00:00",
          "2016-10-01T18:00:00",
          "2017-01-01T00:00:00",
          "2017-04-02T06:00:00",
          "2017-07-02T12:00:00",
          "2017-10-01T18:00:00",
          "2018-10-01T18:00:00",
          "2019-01-01T00:00:00",
          "2019-04-02T06:00:00",
          "2020-01-01T00:00:00",
          "2020-04-01T06:00:00",
          "2020-07-01T12:00:00",
          "2020-09-30T18:00:00"
         ],
         "y": [
          1,
          1,
          2,
          1,
          1,
          2,
          2,
          1,
          2,
          1,
          1,
          2,
          2,
          1,
          1
         ]
        }
       ],
       "layout": {
        "height": 600,
        "hoverlabel": {
         "bgcolor": "white",
         "font": {
          "family": "Rockwell",
          "size": 16
         }
        },
        "legend": {
         "title": {
          "text": "Topic"
         }
        },
        "template": {
         "data": {
          "bar": [
           {
            "error_x": {
             "color": "rgb(36,36,36)"
            },
            "error_y": {
             "color": "rgb(36,36,36)"
            },
            "marker": {
             "line": {
              "color": "white",
              "width": 0.5
             },
             "pattern": {
              "fillmode": "overlay",
              "size": 10,
              "solidity": 0.2
             }
            },
            "type": "bar"
           }
          ],
          "barpolar": [
           {
            "marker": {
             "line": {
              "color": "white",
              "width": 0.5
             },
             "pattern": {
              "fillmode": "overlay",
              "size": 10,
              "solidity": 0.2
             }
            },
            "type": "barpolar"
           }
          ],
          "carpet": [
           {
            "aaxis": {
             "endlinecolor": "rgb(36,36,36)",
             "gridcolor": "white",
             "linecolor": "white",
             "minorgridcolor": "white",
             "startlinecolor": "rgb(36,36,36)"
            },
            "baxis": {
             "endlinecolor": "rgb(36,36,36)",
             "gridcolor": "white",
             "linecolor": "white",
             "minorgridcolor": "white",
             "startlinecolor": "rgb(36,36,36)"
            },
            "type": "carpet"
           }
          ],
          "choropleth": [
           {
            "colorbar": {
             "outlinewidth": 1,
             "tickcolor": "rgb(36,36,36)",
             "ticks": "outside"
            },
            "type": "choropleth"
           }
          ],
          "contour": [
           {
            "colorbar": {
             "outlinewidth": 1,
             "tickcolor": "rgb(36,36,36)",
             "ticks": "outside"
            },
            "colorscale": [
             [
              0,
              "#440154"
             ],
             [
              0.1111111111111111,
              "#482878"
             ],
             [
              0.2222222222222222,
              "#3e4989"
             ],
             [
              0.3333333333333333,
              "#31688e"
             ],
             [
              0.4444444444444444,
              "#26828e"
             ],
             [
              0.5555555555555556,
              "#1f9e89"
             ],
             [
              0.6666666666666666,
              "#35b779"
             ],
             [
              0.7777777777777778,
              "#6ece58"
             ],
             [
              0.8888888888888888,
              "#b5de2b"
             ],
             [
              1,
              "#fde725"
             ]
            ],
            "type": "contour"
           }
          ],
          "contourcarpet": [
           {
            "colorbar": {
             "outlinewidth": 1,
             "tickcolor": "rgb(36,36,36)",
             "ticks": "outside"
            },
            "type": "contourcarpet"
           }
          ],
          "heatmap": [
           {
            "colorbar": {
             "outlinewidth": 1,
             "tickcolor": "rgb(36,36,36)",
             "ticks": "outside"
            },
            "colorscale": [
             [
              0,
              "#440154"
             ],
             [
              0.1111111111111111,
              "#482878"
             ],
             [
              0.2222222222222222,
              "#3e4989"
             ],
             [
              0.3333333333333333,
              "#31688e"
             ],
             [
              0.4444444444444444,
              "#26828e"
             ],
             [
              0.5555555555555556,
              "#1f9e89"
             ],
             [
              0.6666666666666666,
              "#35b779"
             ],
             [
              0.7777777777777778,
              "#6ece58"
             ],
             [
              0.8888888888888888,
              "#b5de2b"
             ],
             [
              1,
              "#fde725"
             ]
            ],
            "type": "heatmap"
           }
          ],
          "heatmapgl": [
           {
            "colorbar": {
             "outlinewidth": 1,
             "tickcolor": "rgb(36,36,36)",
             "ticks": "outside"
            },
            "colorscale": [
             [
              0,
              "#440154"
             ],
             [
              0.1111111111111111,
              "#482878"
             ],
             [
              0.2222222222222222,
              "#3e4989"
             ],
             [
              0.3333333333333333,
              "#31688e"
             ],
             [
              0.4444444444444444,
              "#26828e"
             ],
             [
              0.5555555555555556,
              "#1f9e89"
             ],
             [
              0.6666666666666666,
              "#35b779"
             ],
             [
              0.7777777777777778,
              "#6ece58"
             ],
             [
              0.8888888888888888,
              "#b5de2b"
             ],
             [
              1,
              "#fde725"
             ]
            ],
            "type": "heatmapgl"
           }
          ],
          "histogram": [
           {
            "marker": {
             "line": {
              "color": "white",
              "width": 0.6
             }
            },
            "type": "histogram"
           }
          ],
          "histogram2d": [
           {
            "colorbar": {
             "outlinewidth": 1,
             "tickcolor": "rgb(36,36,36)",
             "ticks": "outside"
            },
            "colorscale": [
             [
              0,
              "#440154"
             ],
             [
              0.1111111111111111,
              "#482878"
             ],
             [
              0.2222222222222222,
              "#3e4989"
             ],
             [
              0.3333333333333333,
              "#31688e"
             ],
             [
              0.4444444444444444,
              "#26828e"
             ],
             [
              0.5555555555555556,
              "#1f9e89"
             ],
             [
              0.6666666666666666,
              "#35b779"
             ],
             [
              0.7777777777777778,
              "#6ece58"
             ],
             [
              0.8888888888888888,
              "#b5de2b"
             ],
             [
              1,
              "#fde725"
             ]
            ],
            "type": "histogram2d"
           }
          ],
          "histogram2dcontour": [
           {
            "colorbar": {
             "outlinewidth": 1,
             "tickcolor": "rgb(36,36,36)",
             "ticks": "outside"
            },
            "colorscale": [
             [
              0,
              "#440154"
             ],
             [
              0.1111111111111111,
              "#482878"
             ],
             [
              0.2222222222222222,
              "#3e4989"
             ],
             [
              0.3333333333333333,
              "#31688e"
             ],
             [
              0.4444444444444444,
              "#26828e"
             ],
             [
              0.5555555555555556,
              "#1f9e89"
             ],
             [
              0.6666666666666666,
              "#35b779"
             ],
             [
              0.7777777777777778,
              "#6ece58"
             ],
             [
              0.8888888888888888,
              "#b5de2b"
             ],
             [
              1,
              "#fde725"
             ]
            ],
            "type": "histogram2dcontour"
           }
          ],
          "mesh3d": [
           {
            "colorbar": {
             "outlinewidth": 1,
             "tickcolor": "rgb(36,36,36)",
             "ticks": "outside"
            },
            "type": "mesh3d"
           }
          ],
          "parcoords": [
           {
            "line": {
             "colorbar": {
              "outlinewidth": 1,
              "tickcolor": "rgb(36,36,36)",
              "ticks": "outside"
             }
            },
            "type": "parcoords"
           }
          ],
          "pie": [
           {
            "automargin": true,
            "type": "pie"
           }
          ],
          "scatter": [
           {
            "fillpattern": {
             "fillmode": "overlay",
             "size": 10,
             "solidity": 0.2
            },
            "type": "scatter"
           }
          ],
          "scatter3d": [
           {
            "line": {
             "colorbar": {
              "outlinewidth": 1,
              "tickcolor": "rgb(36,36,36)",
              "ticks": "outside"
             }
            },
            "marker": {
             "colorbar": {
              "outlinewidth": 1,
              "tickcolor": "rgb(36,36,36)",
              "ticks": "outside"
             }
            },
            "type": "scatter3d"
           }
          ],
          "scattercarpet": [
           {
            "marker": {
             "colorbar": {
              "outlinewidth": 1,
              "tickcolor": "rgb(36,36,36)",
              "ticks": "outside"
             }
            },
            "type": "scattercarpet"
           }
          ],
          "scattergeo": [
           {
            "marker": {
             "colorbar": {
              "outlinewidth": 1,
              "tickcolor": "rgb(36,36,36)",
              "ticks": "outside"
             }
            },
            "type": "scattergeo"
           }
          ],
          "scattergl": [
           {
            "marker": {
             "colorbar": {
              "outlinewidth": 1,
              "tickcolor": "rgb(36,36,36)",
              "ticks": "outside"
             }
            },
            "type": "scattergl"
           }
          ],
          "scattermapbox": [
           {
            "marker": {
             "colorbar": {
              "outlinewidth": 1,
              "tickcolor": "rgb(36,36,36)",
              "ticks": "outside"
             }
            },
            "type": "scattermapbox"
           }
          ],
          "scatterpolar": [
           {
            "marker": {
             "colorbar": {
              "outlinewidth": 1,
              "tickcolor": "rgb(36,36,36)",
              "ticks": "outside"
             }
            },
            "type": "scatterpolar"
           }
          ],
          "scatterpolargl": [
           {
            "marker": {
             "colorbar": {
              "outlinewidth": 1,
              "tickcolor": "rgb(36,36,36)",
              "ticks": "outside"
             }
            },
            "type": "scatterpolargl"
           }
          ],
          "scatterternary": [
           {
            "marker": {
             "colorbar": {
              "outlinewidth": 1,
              "tickcolor": "rgb(36,36,36)",
              "ticks": "outside"
             }
            },
            "type": "scatterternary"
           }
          ],
          "surface": [
           {
            "colorbar": {
             "outlinewidth": 1,
             "tickcolor": "rgb(36,36,36)",
             "ticks": "outside"
            },
            "colorscale": [
             [
              0,
              "#440154"
             ],
             [
              0.1111111111111111,
              "#482878"
             ],
             [
              0.2222222222222222,
              "#3e4989"
             ],
             [
              0.3333333333333333,
              "#31688e"
             ],
             [
              0.4444444444444444,
              "#26828e"
             ],
             [
              0.5555555555555556,
              "#1f9e89"
             ],
             [
              0.6666666666666666,
              "#35b779"
             ],
             [
              0.7777777777777778,
              "#6ece58"
             ],
             [
              0.8888888888888888,
              "#b5de2b"
             ],
             [
              1,
              "#fde725"
             ]
            ],
            "type": "surface"
           }
          ],
          "table": [
           {
            "cells": {
             "fill": {
              "color": "rgb(237,237,237)"
             },
             "line": {
              "color": "white"
             }
            },
            "header": {
             "fill": {
              "color": "rgb(217,217,217)"
             },
             "line": {
              "color": "white"
             }
            },
            "type": "table"
           }
          ]
         },
         "layout": {
          "annotationdefaults": {
           "arrowhead": 0,
           "arrowwidth": 1
          },
          "autotypenumbers": "strict",
          "coloraxis": {
           "colorbar": {
            "outlinewidth": 1,
            "tickcolor": "rgb(36,36,36)",
            "ticks": "outside"
           }
          },
          "colorscale": {
           "diverging": [
            [
             0,
             "rgb(103,0,31)"
            ],
            [
             0.1,
             "rgb(178,24,43)"
            ],
            [
             0.2,
             "rgb(214,96,77)"
            ],
            [
             0.3,
             "rgb(244,165,130)"
            ],
            [
             0.4,
             "rgb(253,219,199)"
            ],
            [
             0.5,
             "rgb(247,247,247)"
            ],
            [
             0.6,
             "rgb(209,229,240)"
            ],
            [
             0.7,
             "rgb(146,197,222)"
            ],
            [
             0.8,
             "rgb(67,147,195)"
            ],
            [
             0.9,
             "rgb(33,102,172)"
            ],
            [
             1,
             "rgb(5,48,97)"
            ]
           ],
           "sequential": [
            [
             0,
             "#440154"
            ],
            [
             0.1111111111111111,
             "#482878"
            ],
            [
             0.2222222222222222,
             "#3e4989"
            ],
            [
             0.3333333333333333,
             "#31688e"
            ],
            [
             0.4444444444444444,
             "#26828e"
            ],
            [
             0.5555555555555556,
             "#1f9e89"
            ],
            [
             0.6666666666666666,
             "#35b779"
            ],
            [
             0.7777777777777778,
             "#6ece58"
            ],
            [
             0.8888888888888888,
             "#b5de2b"
            ],
            [
             1,
             "#fde725"
            ]
           ],
           "sequentialminus": [
            [
             0,
             "#440154"
            ],
            [
             0.1111111111111111,
             "#482878"
            ],
            [
             0.2222222222222222,
             "#3e4989"
            ],
            [
             0.3333333333333333,
             "#31688e"
            ],
            [
             0.4444444444444444,
             "#26828e"
            ],
            [
             0.5555555555555556,
             "#1f9e89"
            ],
            [
             0.6666666666666666,
             "#35b779"
            ],
            [
             0.7777777777777778,
             "#6ece58"
            ],
            [
             0.8888888888888888,
             "#b5de2b"
            ],
            [
             1,
             "#fde725"
            ]
           ]
          },
          "colorway": [
           "#1F77B4",
           "#FF7F0E",
           "#2CA02C",
           "#D62728",
           "#9467BD",
           "#8C564B",
           "#E377C2",
           "#7F7F7F",
           "#BCBD22",
           "#17BECF"
          ],
          "font": {
           "color": "rgb(36,36,36)"
          },
          "geo": {
           "bgcolor": "white",
           "lakecolor": "white",
           "landcolor": "white",
           "showlakes": true,
           "showland": true,
           "subunitcolor": "white"
          },
          "hoverlabel": {
           "align": "left"
          },
          "hovermode": "closest",
          "mapbox": {
           "style": "light"
          },
          "paper_bgcolor": "white",
          "plot_bgcolor": "white",
          "polar": {
           "angularaxis": {
            "gridcolor": "rgb(232,232,232)",
            "linecolor": "rgb(36,36,36)",
            "showgrid": false,
            "showline": true,
            "ticks": "outside"
           },
           "bgcolor": "white",
           "radialaxis": {
            "gridcolor": "rgb(232,232,232)",
            "linecolor": "rgb(36,36,36)",
            "showgrid": false,
            "showline": true,
            "ticks": "outside"
           }
          },
          "scene": {
           "xaxis": {
            "backgroundcolor": "white",
            "gridcolor": "rgb(232,232,232)",
            "gridwidth": 2,
            "linecolor": "rgb(36,36,36)",
            "showbackground": true,
            "showgrid": false,
            "showline": true,
            "ticks": "outside",
            "zeroline": false,
            "zerolinecolor": "rgb(36,36,36)"
           },
           "yaxis": {
            "backgroundcolor": "white",
            "gridcolor": "rgb(232,232,232)",
            "gridwidth": 2,
            "linecolor": "rgb(36,36,36)",
            "showbackground": true,
            "showgrid": false,
            "showline": true,
            "ticks": "outside",
            "zeroline": false,
            "zerolinecolor": "rgb(36,36,36)"
           },
           "zaxis": {
            "backgroundcolor": "white",
            "gridcolor": "rgb(232,232,232)",
            "gridwidth": 2,
            "linecolor": "rgb(36,36,36)",
            "showbackground": true,
            "showgrid": false,
            "showline": true,
            "ticks": "outside",
            "zeroline": false,
            "zerolinecolor": "rgb(36,36,36)"
           }
          },
          "shapedefaults": {
           "fillcolor": "black",
           "line": {
            "width": 0
           },
           "opacity": 0.3
          },
          "ternary": {
           "aaxis": {
            "gridcolor": "rgb(232,232,232)",
            "linecolor": "rgb(36,36,36)",
            "showgrid": false,
            "showline": true,
            "ticks": "outside"
           },
           "baxis": {
            "gridcolor": "rgb(232,232,232)",
            "linecolor": "rgb(36,36,36)",
            "showgrid": false,
            "showline": true,
            "ticks": "outside"
           },
           "bgcolor": "white",
           "caxis": {
            "gridcolor": "rgb(232,232,232)",
            "linecolor": "rgb(36,36,36)",
            "showgrid": false,
            "showline": true,
            "ticks": "outside"
           }
          },
          "title": {
           "x": 0.05
          },
          "xaxis": {
           "automargin": true,
           "gridcolor": "rgb(232,232,232)",
           "linecolor": "rgb(36,36,36)",
           "showgrid": false,
           "showline": true,
           "ticks": "outside",
           "title": {
            "standoff": 15
           },
           "zeroline": false,
           "zerolinecolor": "rgb(36,36,36)"
          },
          "yaxis": {
           "automargin": true,
           "gridcolor": "rgb(232,232,232)",
           "linecolor": "rgb(36,36,36)",
           "showgrid": false,
           "showline": true,
           "ticks": "outside",
           "title": {
            "standoff": 15
           },
           "zeroline": false,
           "zerolinecolor": "rgb(36,36,36)"
          }
         }
        },
        "title": {
         "text": ""
        },
        "width": 1200,
        "xaxis": {
         "showgrid": true,
         "tickangle": 45
        },
        "yaxis": {
         "showgrid": true,
         "title": {
          "text": "Frequency"
         }
        }
       }
      }
     },
     "metadata": {},
     "output_type": "display_data"
    }
   ],
   "source": [
    "# Topic activity over time\n",
    "import plotly.graph_objects as go\n",
    "\n",
    "# Create timestamps\n",
    "data['time'] = pd.to_datetime(data['time'])\n",
    "timestamps = data['time'].to_list()\n",
    "\n",
    "# Generate the topics over time\n",
    "topics_over_time = model.topics_over_time(docs, timestamps, nr_bins=20)\n",
    "\n",
    "# Filter out topic -1 containing outliers\n",
    "topics_over_time_filtered = topics_over_time[topics_over_time['Topic']  != -1]\n",
    "\n",
    "# Visualize the filtered topics over time\n",
    "fig = model.visualize_topics_over_time(topics_over_time_filtered)\n",
    "\n",
    "# Update legend to display only the topic number\n",
    "fig.data = sorted(fig.data, key=lambda trace: trace.name)\n",
    "\n",
    "for trace in fig.data:\n",
    "    trace.name = trace.name[0]\n",
    "\n",
    "# Update the layout\n",
    "fig.update_layout(\n",
    "    width=1200,\n",
    "    height=600,\n",
    "    title='',\n",
    "    legend_title_text='Topic',\n",
    "    xaxis_tickangle=45         # Set x-axis labels to 45-degree angle\n",
    ")\n",
    "\n",
    "# Show the figure\n",
    "fig.show()"
   ]
  },
  {
   "cell_type": "code",
   "execution_count": null,
   "metadata": {},
   "outputs": [],
   "source": []
  }
 ],
 "metadata": {
  "accelerator": "GPU",
  "colab": {
   "gpuType": "A100",
   "machine_shape": "hm",
   "provenance": []
  },
  "kernelspec": {
   "display_name": "BERTopic_testing",
   "language": "python",
   "name": "python3"
  },
  "language_info": {
   "codemirror_mode": {
    "name": "ipython",
    "version": 3
   },
   "file_extension": ".py",
   "mimetype": "text/x-python",
   "name": "python",
   "nbconvert_exporter": "python",
   "pygments_lexer": "ipython3",
   "version": "3.11.11"
  }
 },
 "nbformat": 4,
 "nbformat_minor": 0
}
